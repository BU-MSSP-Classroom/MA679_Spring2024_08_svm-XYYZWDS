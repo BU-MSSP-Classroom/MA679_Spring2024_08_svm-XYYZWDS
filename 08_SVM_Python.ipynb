{
 "cells": [
  {
   "cell_type": "code",
   "execution_count": 1,
   "id": "005a7fe5",
   "metadata": {
    "Rmd_chunk_options": "setup, include=FALSE",
    "jupyter": {
     "output_hidden": true,
     "source_hidden": true
    },
    "kernel": "R",
    "tags": [
     "scratch"
    ]
   },
   "outputs": [],
   "source": [
    "knitr::opts_chunk$set(echo = FALSE,fig.width=6,fig.height=6 ,fig.align = \"center\",out.width=\"90%\")"
   ]
  },
  {
   "cell_type": "code",
   "execution_count": 2,
   "id": "0ad985b2",
   "metadata": {
    "Rmd_chunk_options": "echo=FALSE",
    "jupyter": {
     "output_hidden": false,
     "source_hidden": true
    },
    "kernel": "css",
    "tags": [
     "report_output"
    ]
   },
   "outputs": [],
   "source": [
    ".btn {\n",
    "    border-width: 0 0px 0px 0px;\n",
    "    font-weight: normal;\n",
    "    text-transform: ;\n",
    "}\n",
    "\n",
    ".btn-default {\n",
    "    color: #2ecc71;\n",
    "    background-color: #ffffff;\n",
    "    border-color: #ffffff;\n",
    "}"
   ]
  },
  {
   "cell_type": "code",
   "execution_count": 3,
   "id": "4c6c26c3",
   "metadata": {
    "Rmd_chunk_options": "echo=FALSE",
    "jupyter": {
     "output_hidden": false,
     "source_hidden": true
    },
    "kernel": "R",
    "tags": [
     "report_output"
    ]
   },
   "outputs": [],
   "source": [
    "# Global parameter\n",
    "show_code <- TRUE"
   ]
  },
  {
   "cell_type": "markdown",
   "id": "10ab291b",
   "metadata": {},
   "source": [
    "# Class Workbook {.tabset .tabset-fade .tabset-pills}"
   ]
  },
  {
   "cell_type": "markdown",
   "id": "e5b1deb9",
   "metadata": {},
   "source": [
    "## In class activity"
   ]
  },
  {
   "cell_type": "code",
   "execution_count": 2,
   "id": "2246cb11",
   "metadata": {
    "kernel": "Python3",
    "tags": [
     "report_cell"
    ]
   },
   "outputs": [],
   "source": [
    "import numpy as np\n",
    "import pandas as pd\n",
    "import math\n",
    "from matplotlib.pyplot import subplots\n",
    "#import statsmodels.api as sm\n",
    "from plotnine import *\n",
    "import plotly.express as px\n",
    "import statsmodels.formula.api as sm\n",
    "#import ISLP as islp\n",
    "\n",
    "import matplotlib.pyplot as plt\n",
    "from sklearn.preprocessing import scale\n",
    "from sklearn.linear_model import LinearRegression"
   ]
  },
  {
   "cell_type": "markdown",
   "id": "c9f32782",
   "metadata": {},
   "source": [
    "### COVID Data\n",
    "\n",
    "Let's revisit COVID data.\n",
    "I've divided the data into training and testing data."
   ]
  },
  {
   "cell_type": "code",
   "execution_count": 3,
   "id": "7e9c9407",
   "metadata": {
    "kernel": "Python3",
    "tags": [
     "report_cell"
    ]
   },
   "outputs": [],
   "source": [
    "import zipfile\n",
    "Train_COVID= pd.read_csv('Train_COVID.zip',compression='zip')\n",
    "Test_COVID= pd.read_csv('Test_COVID.zip',compression='zip')"
   ]
  },
  {
   "cell_type": "markdown",
   "id": "8eff9e6f",
   "metadata": {},
   "source": [
    "Use SVM to classify the patients that survive.\n",
    "See if you can improve the performance over GAM or logistic regression from the previous chapters.\n",
    "\n",
    "Your code:"
   ]
  },
  {
   "cell_type": "code",
   "execution_count": 2,
   "id": "a795e95b",
   "metadata": {
    "Rmd_chunk_options": "echo=TRUE",
    "kernel": "Python3",
    "tags": [
     "report_cell"
    ]
   },
   "outputs": [
    {
     "data": {
      "text/plain": [
       "(   USMER  MEDICAL_UNIT  SEX  PATIENT_TYPE   DATE_DIED  INTUBED  PNEUMONIA  \\\n",
       " 0      2            12    2             2  9999-99-99      0.0        1.0   \n",
       " 1      1            12    1             1  9999-99-99      NaN        0.0   \n",
       " 2      2             4    1             1  9999-99-99      NaN        0.0   \n",
       " 3      2            12    1             2  9999-99-99      0.0        0.0   \n",
       " 4      2            12    2             2  9999-99-99      0.0        1.0   \n",
       " \n",
       "    AGE  PREGNANT  DIABETES  ...  OTHER_DISEASE  CARDIOVASCULAR  OBESITY  \\\n",
       " 0   64       0.0         1  ...              2               2        2   \n",
       " 1   52       0.0         1  ...              2               2        2   \n",
       " 2   30       0.0         2  ...              1               2        2   \n",
       " 3   38       0.0         1  ...              2               2        1   \n",
       " 4   72       0.0         2  ...              2               2        2   \n",
       " \n",
       "    RENAL_CHRONIC  TOBACCO  CLASIFFICATION_FINAL  ICU  FEMALE  AGE_TRUNK  \\\n",
       " 0              2        2                     5  0.0       0         64   \n",
       " 1              2        2                     7  NaN       1         52   \n",
       " 2              2        1                     7  NaN       1         30   \n",
       " 3              2        2                     3  0.0       1         38   \n",
       " 4              2        1                     3  0.0       0         72   \n",
       " \n",
       "    SURVIVED  \n",
       " 0         1  \n",
       " 1         1  \n",
       " 2         1  \n",
       " 3         1  \n",
       " 4         1  \n",
       " \n",
       " [5 rows x 24 columns],\n",
       "    USMER  MEDICAL_UNIT  SEX  PATIENT_TYPE   DATE_DIED  INTUBED  PNEUMONIA  \\\n",
       " 0      2            12    1             1  9999-99-99      NaN        0.0   \n",
       " 1      2            12    2             1  9999-99-99      NaN        0.0   \n",
       " 2      2            12    1             1  9999-99-99      NaN        0.0   \n",
       " 3      2            12    1             1  9999-99-99      NaN        0.0   \n",
       " 4      2            12    1             1  9999-99-99      NaN        0.0   \n",
       " \n",
       "    AGE  PREGNANT  DIABETES  ...  OTHER_DISEASE  CARDIOVASCULAR  OBESITY  \\\n",
       " 0   35       0.0         2  ...              2               2        2   \n",
       " 1   28       0.0         2  ...              2               2        2   \n",
       " 2    7       0.0         2  ...              2               2        2   \n",
       " 3   35       0.0         1  ...              2               2        2   \n",
       " 4   33       0.0         2  ...              2               2        2   \n",
       " \n",
       "    RENAL_CHRONIC  TOBACCO  CLASIFFICATION_FINAL  ICU  FEMALE  AGE_TRUNK  \\\n",
       " 0              2        2                     7  NaN       1         35   \n",
       " 1              2        2                     7  NaN       0         28   \n",
       " 2              2        2                     7  NaN       1          7   \n",
       " 3              2        2                     7  NaN       1         35   \n",
       " 4              2        2                     5  NaN       1         33   \n",
       " \n",
       "    SURVIVED  \n",
       " 0         1  \n",
       " 1         1  \n",
       " 2         1  \n",
       " 3         1  \n",
       " 4         1  \n",
       " \n",
       " [5 rows x 24 columns])"
      ]
     },
     "execution_count": 2,
     "metadata": {},
     "output_type": "execute_result"
    }
   ],
   "source": [
    "import pandas as pd\n",
    "import zipfile\n",
    "import os\n",
    "\n",
    "# Define paths for the uploaded files\n",
    "train_zip_path = 'Train_COVID.zip'\n",
    "test_zip_path = 'Test_COVID.zip'\n",
    "\n",
    "# Extract the ZIP files\n",
    "with zipfile.ZipFile(train_zip_path, 'r') as zip_ref:\n",
    "    zip_ref.extractall('/mnt/data/train_covid')\n",
    "    \n",
    "with zipfile.ZipFile(test_zip_path, 'r') as zip_ref:\n",
    "    zip_ref.extractall('/mnt/data/test_covid')\n",
    "\n",
    "# Assuming there's only one CSV file in each, find the CSV filenames\n",
    "train_csv_file = [os.path.join('/mnt/data/train_covid', f) for f in os.listdir('/mnt/data/train_covid') if f.endswith('.csv')][0]\n",
    "test_csv_file = [os.path.join('/mnt/data/test_covid', f) for f in os.listdir('/mnt/data/test_covid') if f.endswith('.csv')][0]\n",
    "\n",
    "# Load the CSV files into pandas DataFrames\n",
    "Train_COVID = pd.read_csv(train_csv_file)\n",
    "Test_COVID = pd.read_csv(test_csv_file)\n",
    "\n",
    "Train_COVID.head(), Test_COVID.head()\n"
   ]
  },
  {
   "cell_type": "code",
   "execution_count": 3,
   "id": "0191049b",
   "metadata": {},
   "outputs": [
    {
     "data": {
      "text/plain": [
       "(USMER                        0\n",
       " MEDICAL_UNIT                 0\n",
       " SEX                          0\n",
       " PATIENT_TYPE                 0\n",
       " DATE_DIED                    0\n",
       " INTUBED                 573092\n",
       " PNEUMONIA                10699\n",
       " AGE                          0\n",
       " PREGNANT                  2471\n",
       " DIABETES                     0\n",
       " COPD                         0\n",
       " ASTHMA                       0\n",
       " INMSUPR                      0\n",
       " HIPERTENSION                 0\n",
       " OTHER_DISEASE                0\n",
       " CARDIOVASCULAR               0\n",
       " OBESITY                      0\n",
       " RENAL_CHRONIC                0\n",
       " TOBACCO                      0\n",
       " CLASIFFICATION_FINAL         0\n",
       " ICU                     573198\n",
       " FEMALE                       0\n",
       " AGE_TRUNK                    0\n",
       " SURVIVED                     0\n",
       " dtype: int64,\n",
       " USMER                        0\n",
       " MEDICAL_UNIT                 0\n",
       " SEX                          0\n",
       " PATIENT_TYPE                 0\n",
       " DATE_DIED                    0\n",
       " INTUBED                 282777\n",
       " PNEUMONIA                 5304\n",
       " AGE                          0\n",
       " PREGNANT                  1283\n",
       " DIABETES                     0\n",
       " COPD                         0\n",
       " ASTHMA                       0\n",
       " INMSUPR                      0\n",
       " HIPERTENSION                 0\n",
       " OTHER_DISEASE                0\n",
       " CARDIOVASCULAR               0\n",
       " OBESITY                      0\n",
       " RENAL_CHRONIC                0\n",
       " TOBACCO                      0\n",
       " CLASIFFICATION_FINAL         0\n",
       " ICU                     282834\n",
       " FEMALE                       0\n",
       " AGE_TRUNK                    0\n",
       " SURVIVED                     0\n",
       " dtype: int64,\n",
       " (702545, 8),\n",
       " (346030, 8))"
      ]
     },
     "execution_count": 3,
     "metadata": {},
     "output_type": "execute_result"
    }
   ],
   "source": [
    "# Check for missing values in both train and test datasets\n",
    "missing_train = Train_COVID.isnull().sum()\n",
    "missing_test = Test_COVID.isnull().sum()\n",
    "\n",
    "# Select columns for the model\n",
    "# We'll exclude columns with non-numeric values and those not relevant for prediction (like IDs, dates)\n",
    "features = ['SEX', 'AGE', 'DIABETES', 'PNEUMONIA', 'OBESITY', 'CARDIOVASCULAR', 'RENAL_CHRONIC', 'TOBACCO']\n",
    "target = 'SURVIVED'\n",
    "\n",
    "# Prepare the feature and target matrices\n",
    "X_train = Train_COVID[features]\n",
    "y_train = Train_COVID[target]\n",
    "X_test = Test_COVID[features]\n",
    "y_test = Test_COVID[target]\n",
    "\n",
    "# Handling missing values by imputation or dropping - here, we'll use median imputation for simplicity\n",
    "from sklearn.impute import SimpleImputer\n",
    "\n",
    "imputer = SimpleImputer(strategy='median')\n",
    "X_train_imputed = imputer.fit_transform(X_train)\n",
    "X_test_imputed = imputer.transform(X_test)\n",
    "\n",
    "missing_train, missing_test, X_train_imputed.shape, X_test_imputed.shape\n"
   ]
  },
  {
   "cell_type": "markdown",
   "id": "06bfa018",
   "metadata": {},
   "source": [
    "Your answer:\n",
    "\n",
    "~~~\n",
    "The processed feature matrices for the training and test datasets now have shapes of 70545 * 8 and 346030 * 8 ,respectively, indicating that we have 8 features for each patient record.\n",
    "\n",
    "\n",
    "~~~"
   ]
  },
  {
   "cell_type": "markdown",
   "id": "80e1a079",
   "metadata": {},
   "source": [
    "### Ames Housing data\n",
    "\n",
    "Let's revisit Ames Housing data."
   ]
  },
  {
   "cell_type": "code",
   "execution_count": 3,
   "id": "ef3228a2",
   "metadata": {
    "Rmd_chunk_options": "echo=show_code",
    "kernel": "Python3",
    "tags": [
     "report_cell"
    ]
   },
   "outputs": [],
   "source": [
    "ames_raw=pd.read_csv(\"ames_raw.csv\")"
   ]
  },
  {
   "cell_type": "markdown",
   "id": "b80401a2",
   "metadata": {},
   "source": [
    "### Questions\n",
    "\n",
    "Use data of `ames_raw` up to 2008 to predict the housing price for the later years."
   ]
  },
  {
   "cell_type": "code",
   "execution_count": 4,
   "id": "027e5efd",
   "metadata": {
    "Rmd_chunk_options": "echo=show_code",
    "kernel": "Python3",
    "tags": [
     "report_cell"
    ]
   },
   "outputs": [],
   "source": [
    "ames_raw_2009, ames_raw_2008= ames_raw.query('`Yr Sold`>=2008').copy(), ames_raw.query('`Yr Sold` <2008').copy()"
   ]
  },
  {
   "cell_type": "markdown",
   "id": "a9db94af",
   "metadata": {},
   "source": [
    "Use the same loss function calculator."
   ]
  },
  {
   "cell_type": "code",
   "execution_count": 5,
   "id": "ab4d6816",
   "metadata": {
    "Rmd_chunk_options": "echo=show_code",
    "kernel": "Python3",
    "tags": [
     "report_cell"
    ]
   },
   "outputs": [],
   "source": [
    "def calc_loss(prediction,actual):\n",
    "  difpred = actual-prediction\n",
    "  RMSE =pow(difpred.pow(2).mean(),1/2)\n",
    "  operation_loss=abs(sum(difpred[difpred<0]))+sum(0.1*actual[difpred>0])\n",
    "  return RMSE,operation_loss"
   ]
  },
  {
   "cell_type": "markdown",
   "id": "d0793a88",
   "metadata": {},
   "source": [
    "Fit support vector regression to the sales price.  How is the prediction compared to the previous models you've fit?\n",
    "\n",
    "Your code:"
   ]
  },
  {
   "cell_type": "code",
   "execution_count": 6,
   "id": "955ef0da",
   "metadata": {
    "Rmd_chunk_options": "echo=TRUE",
    "kernel": "Python3",
    "tags": [
     "report_cell"
    ]
   },
   "outputs": [
    {
     "data": {
      "text/plain": [
       "(1301.682770322365, 328700.4666666667, 42867.00075850162, 32028785.9)"
      ]
     },
     "execution_count": 6,
     "metadata": {},
     "output_type": "execute_result"
    }
   ],
   "source": [
    "from sklearn.model_selection import train_test_split\n",
    "from sklearn.preprocessing import OneHotEncoder, StandardScaler\n",
    "from sklearn.compose import ColumnTransformer\n",
    "from sklearn.pipeline import Pipeline\n",
    "from sklearn.impute import SimpleImputer\n",
    "from sklearn.tree import DecisionTreeRegressor\n",
    "from sklearn.metrics import mean_squared_error\n",
    "import numpy as np\n",
    "\n",
    "# Selecting a subset of features for simplicity\n",
    "features = ['Lot Area', 'Overall Qual', 'Year Built', 'Total Bsmt SF', '1st Flr SF', '2nd Flr SF', 'Gr Liv Area', 'Full Bath', 'Bedroom AbvGr', 'Kitchen AbvGr']\n",
    "target = 'SalePrice'\n",
    "\n",
    "# Preprocessing for numerical features\n",
    "numerical_features = ['Lot Area', 'Year Built', 'Total Bsmt SF', '1st Flr SF', '2nd Flr SF', 'Gr Liv Area']\n",
    "numerical_transformer = Pipeline(steps=[\n",
    "    ('imputer', SimpleImputer(strategy='median')),\n",
    "    ('scaler', StandardScaler())])\n",
    "\n",
    "# Preprocessing for categorical features\n",
    "categorical_features = ['Overall Qual', 'Full Bath', 'Bedroom AbvGr', 'Kitchen AbvGr']\n",
    "categorical_transformer = Pipeline(steps=[\n",
    "    ('imputer', SimpleImputer(strategy='most_frequent')),\n",
    "    ('onehot', OneHotEncoder(handle_unknown='ignore'))])\n",
    "\n",
    "# Combining preprocessing for both types of features\n",
    "preprocessor = ColumnTransformer(\n",
    "    transformers=[\n",
    "        ('num', numerical_transformer, numerical_features),\n",
    "        ('cat', categorical_transformer, categorical_features)])\n",
    "\n",
    "# Define the model\n",
    "model = Pipeline(steps=[('preprocessor', preprocessor),\n",
    "                        ('regressor', DecisionTreeRegressor())])\n",
    "\n",
    "# Splitting the datasets\n",
    "X_train = ames_raw_2009[features]\n",
    "y_train = ames_raw_2009[target]\n",
    "X_test = ames_raw_2008[features]\n",
    "y_test = ames_raw_2008[target]\n",
    "\n",
    "# Fitting the model\n",
    "model.fit(X_train, y_train)\n",
    "\n",
    "# Predictions\n",
    "y_pred_train = model.predict(X_train)\n",
    "y_pred_test = model.predict(X_test)\n",
    "\n",
    "\n",
    "\n",
    "train_rmse, train_loss = calc_loss(y_pred_train, y_train)\n",
    "test_rmse, test_loss = calc_loss(y_pred_test, y_test)\n",
    "\n",
    "train_rmse, train_loss, test_rmse, test_loss\n"
   ]
  },
  {
   "cell_type": "markdown",
   "id": "fa0e8144",
   "metadata": {},
   "source": [
    "Your answer:\n",
    "\n",
    "~~~\n",
    "Please write your answer in full sentences.\n",
    "\n",
    "\n",
    "~~~"
   ]
  },
  {
   "cell_type": "markdown",
   "id": "e7d9bc5e",
   "metadata": {},
   "source": [
    "## Problem Set"
   ]
  },
  {
   "cell_type": "markdown",
   "id": "b9443eac",
   "metadata": {},
   "source": [
    "### SVC\n",
    "\n",
    "Generate a simulated two-class data set with 100 observations and two features with a visible but non-linear separation between the two classes. Show that in this setting, a support vector machine with a polynomial kernel (with degree greater than 1) or a radial kernel will outperform a support vector classifier on the training data. Which technique performs best on the test data? Make plots and report training and test error rates in order to back up your assertions.\n",
    "\n",
    "Your code:"
   ]
  },
  {
   "cell_type": "code",
   "execution_count": 13,
   "id": "f35509cf",
   "metadata": {
    "Rmd_chunk_options": "echo=TRUE",
    "kernel": "Python3",
    "tags": [
     "report_cell"
    ]
   },
   "outputs": [
    {
     "data": {
      "text/plain": [
       "(0.8571428571428571,\n",
       " 0.8666666666666667,\n",
       " 0.9142857142857143,\n",
       " 0.8666666666666667,\n",
       " 1.0,\n",
       " 0.9666666666666667)"
      ]
     },
     "execution_count": 13,
     "metadata": {},
     "output_type": "execute_result"
    }
   ],
   "source": [
    "import numpy as np\n",
    "import matplotlib.pyplot as plt\n",
    "from sklearn.datasets import make_moons\n",
    "from sklearn.model_selection import train_test_split\n",
    "from sklearn.svm import SVC\n",
    "from sklearn.metrics import accuracy_score\n",
    "\n",
    "# Generate a two-class dataset with 100 observations and two features\n",
    "X, y = make_moons(n_samples=100, noise=0.1, random_state=42)\n",
    "\n",
    "# Split the dataset into training and test sets\n",
    "X_train, X_test, y_train, y_test = train_test_split(X, y, test_size=0.3, random_state=42)\n",
    "\n",
    "# Train different SVM models\n",
    "# Linear kernel SVM\n",
    "svm_linear = SVC(kernel='linear')\n",
    "svm_linear.fit(X_train, y_train)\n",
    "\n",
    "# Polynomial kernel SVM\n",
    "svm_poly = SVC(kernel='poly', degree=3)\n",
    "svm_poly.fit(X_train, y_train)\n",
    "\n",
    "# Radial Basis Function (RBF) kernel SVM\n",
    "svm_rbf = SVC(kernel='rbf')\n",
    "svm_rbf.fit(X_train, y_train)\n",
    "\n",
    "# Predictions and accuracy\n",
    "y_pred_train_linear = svm_linear.predict(X_train)\n",
    "y_pred_test_linear = svm_linear.predict(X_test)\n",
    "\n",
    "y_pred_train_poly = svm_poly.predict(X_train)\n",
    "y_pred_test_poly = svm_poly.predict(X_test)\n",
    "\n",
    "y_pred_train_rbf = svm_rbf.predict(X_train)\n",
    "y_pred_test_rbf = svm_rbf.predict(X_test)\n",
    "\n",
    "# Calculate accuracy\n",
    "accuracy_train_linear = accuracy_score(y_train, y_pred_train_linear)\n",
    "accuracy_test_linear = accuracy_score(y_test, y_pred_test_linear)\n",
    "\n",
    "accuracy_train_poly = accuracy_score(y_train, y_pred_train_poly)\n",
    "accuracy_test_poly = accuracy_score(y_test, y_pred_test_poly)\n",
    "\n",
    "accuracy_train_rbf = accuracy_score(y_train, y_pred_train_rbf)\n",
    "accuracy_test_rbf = accuracy_score(y_test, y_pred_test_rbf)\n",
    "\n",
    "accuracy_train_linear, accuracy_test_linear, accuracy_train_poly, accuracy_test_poly, accuracy_train_rbf, accuracy_test_rbf\n"
   ]
  },
  {
   "cell_type": "code",
   "execution_count": 14,
   "id": "24db96f9",
   "metadata": {},
   "outputs": [
    {
     "data": {
      "image/png": "[encoded data removed]",
      "text/plain": [
       "<Figure size 1800x600 with 3 Axes>"
      ]
     },
     "metadata": {},
     "output_type": "display_data"
    }
   ],
   "source": [
    "def plot_decision_boundaries(X, y, model, title):\n",
    "    # Plotting decision regions\n",
    "    x_min, x_max = X[:, 0].min() - 0.1, X[:, 0].max() + 0.1\n",
    "    y_min, y_max = X[:, 1].min() - 0.1, X[:, 1].max() + 0.1\n",
    "    xx, yy = np.meshgrid(np.arange(x_min, x_max, 0.01),\n",
    "                         np.arange(y_min, y_max, 0.01))\n",
    "\n",
    "    Z = model.predict(np.c_[xx.ravel(), yy.ravel()])\n",
    "    Z = Z.reshape(xx.shape)\n",
    "\n",
    "    plt.contourf(xx, yy, Z, alpha=0.4)\n",
    "    plt.scatter(X[:, 0], X[:, 1], c=y, s=20, edgecolor='k')\n",
    "    plt.title(title)\n",
    "    plt.xlabel('Feature 1')\n",
    "    plt.ylabel('Feature 2')\n",
    "\n",
    "# Plot decision boundaries\n",
    "plt.figure(figsize=(18, 6))\n",
    "\n",
    "plt.subplot(1, 3, 1)\n",
    "plot_decision_boundaries(X_train, y_train, svm_linear, 'Linear Kernel SVM')\n",
    "\n",
    "plt.subplot(1, 3, 2)\n",
    "plot_decision_boundaries(X_train, y_train, svm_poly, 'Polynomial Kernel SVM')\n",
    "\n",
    "plt.subplot(1, 3, 3)\n",
    "plot_decision_boundaries(X_train, y_train, svm_rbf, 'RBF Kernel SVM')\n",
    "\n",
    "plt.tight_layout()\n",
    "plt.show()\n"
   ]
  },
  {
   "cell_type": "markdown",
   "id": "bd364b87",
   "metadata": {},
   "source": [
    "Your answer:\n",
    "\n",
    "~~~\n",
    "In conclusion, for the generated non-linear dataset, the RBF Kernel SVM not only performed best on the training data but also demonstrated superior generalization performance on the test data, making it the most effective technique among those evaluated.\n",
    "\n",
    "\n",
    "~~~"
   ]
  },
  {
   "cell_type": "markdown",
   "id": "87b5ebf0",
   "metadata": {},
   "source": [
    "### Kernel\n",
    "\n",
    "We have seen that we can fit an SVM with a non-linear kernel in order to perform classification using a non-linear decision boundary. We will now see that we can also obtain a non-linear decision boundary by performing logistic regression using non-linear transformations of the features.\n",
    "\n",
    "(a) Generate a data set with `n = 500` and `p = 2`, such that the observations belong to two classes with a quadratic decision boundary between them. For instance, you can do this as follows:"
   ]
  },
  {
   "cell_type": "code",
   "execution_count": 15,
   "id": "b1008177",
   "metadata": {
    "Rmd_chunk_options": "eval=TRUE",
    "kernel": "Python3",
    "tags": [
     "report_cell"
    ]
   },
   "outputs": [],
   "source": [
    "rng = np.random.default_rng(5)\n",
    "x1 = rng.uniform(size=500) - 0.5\n",
    "x2 = rng.uniform(size=500) - 0.5\n"
   ]
  },
  {
   "cell_type": "markdown",
   "id": "19d51697",
   "metadata": {},
   "source": [
    "Your code:"
   ]
  },
  {
   "cell_type": "code",
   "execution_count": 16,
   "id": "aa4fc879",
   "metadata": {
    "Rmd_chunk_options": "echo=TRUE",
    "kernel": "Python3",
    "tags": [
     "report_cell"
    ]
   },
   "outputs": [
    {
     "data": {
      "image/png": "[encoded data removed]",
      "text/plain": [
       "<Figure size 600x600 with 1 Axes>"
      ]
     },
     "metadata": {},
     "output_type": "display_data"
    },
    {
     "data": {
      "text/plain": [
       "((500, 2), (500,))"
      ]
     },
     "execution_count": 16,
     "metadata": {},
     "output_type": "execute_result"
    }
   ],
   "source": [
    "\n",
    "y = (x1**2 - x2**2 > 0).astype(int)\n",
    "\n",
    "# Combine x1 and x2 into a single array\n",
    "X = np.vstack((x1, x2)).T\n",
    "\n",
    "# Visualize the generated data\n",
    "plt.figure(figsize=(6, 6))\n",
    "plt.scatter(X[y == 0, 0], X[y == 0, 1], color='red', label='Class 0')\n",
    "plt.scatter(X[y == 1, 0], X[y == 1, 1], color='blue', label='Class 1')\n",
    "plt.title('Quadratic Decision Boundary Dataset')\n",
    "plt.xlabel('x1')\n",
    "plt.ylabel('x2')\n",
    "plt.legend()\n",
    "plt.show()\n",
    "\n",
    "X.shape, y.shape\n"
   ]
  },
  {
   "cell_type": "markdown",
   "id": "0ffae4ed",
   "metadata": {},
   "source": [
    "(b) Plot the observations, colored according to their class labels.  Your plot should display $X_1$ on the x-axis, and $X_2$ on the yaxis.\n",
    "\n",
    "Your code:"
   ]
  },
  {
   "cell_type": "code",
   "execution_count": 17,
   "id": "345d8da8",
   "metadata": {
    "Rmd_chunk_options": "echo=TRUE",
    "kernel": "Python3",
    "tags": [
     "report_cell"
    ]
   },
   "outputs": [
    {
     "data": {
      "image/png": "[encoded data removed]",
      "text/plain": [
       "<Figure size 600x600 with 1 Axes>"
      ]
     },
     "metadata": {},
     "output_type": "display_data"
    }
   ],
   "source": [
    "from sklearn.linear_model import LogisticRegression\n",
    "\n",
    "# Fit a logistic regression model to the data using X1 and X2 as predictors\n",
    "log_reg = LogisticRegression()\n",
    "log_reg.fit(X, y)\n",
    "\n",
    "# Plot the observations, colored according to their class labels\n",
    "plt.figure(figsize=(6, 6))\n",
    "plt.scatter(X[y == 0, 0], X[y == 0, 1], color='red', label='Class 0')\n",
    "plt.scatter(X[y == 1, 0], X[y == 1, 1], color='blue', label='Class 1')\n",
    "plt.title('Logistic Regression Fit')\n",
    "plt.xlabel('X1')\n",
    "plt.ylabel('X2')\n",
    "plt.legend()\n",
    "\n",
    "# Decision boundary\n",
    "x1_min, x1_max = X[:, 0].min() - 0.1, X[:, 0].max() + 0.1\n",
    "x2_min, x2_max = X[:, 1].min() - 0.1, X[:, 1].max() + 0.1\n",
    "xx1, xx2 = np.meshgrid(np.linspace(x1_min, x1_max, 500), np.linspace(x2_min, x2_max, 500))\n",
    "grid = np.c_[xx1.ravel(), xx2.ravel()]\n",
    "probs = log_reg.predict_proba(grid)[:, 1].reshape(xx1.shape)\n",
    "plt.contour(xx1, xx2, probs, levels=[0.5], cmap=\"Greys\", vmin=0, vmax=1)\n",
    "\n",
    "plt.show()\n"
   ]
  },
  {
   "cell_type": "markdown",
   "id": "7c8502d7",
   "metadata": {},
   "source": [
    "(c) Fit a logistic regression model to the data, using $X_1$ and $X_2$ as predictors.\n",
    "\n",
    "Your code:"
   ]
  },
  {
   "cell_type": "code",
   "execution_count": 18,
   "id": "432c92f5",
   "metadata": {
    "Rmd_chunk_options": "echo=TRUE",
    "kernel": "Python3",
    "tags": [
     "report_cell"
    ]
   },
   "outputs": [
    {
     "data": {
      "text/plain": [
       "(array([[-0.15151916,  0.08178592]]), array([0.02224235]))"
      ]
     },
     "execution_count": 18,
     "metadata": {},
     "output_type": "execute_result"
    }
   ],
   "source": [
    "# Fit a logistic regression model to the data using X1 and X2 as predictors\n",
    "log_reg = LogisticRegression()\n",
    "log_reg.fit(X, y)\n",
    "\n",
    "# Output the coefficients of the model\n",
    "log_reg.coef_, log_reg.intercept_\n"
   ]
  },
  {
   "cell_type": "markdown",
   "id": "4948b995",
   "metadata": {},
   "source": [
    "(d) Apply this model to the training data in order to obtain a predicted class label for each training observation. Plot the observations, colored according to the predicted class labels. The decision boundary should be linear.\n",
    "\n",
    "\n",
    "Your code:"
   ]
  },
  {
   "cell_type": "code",
   "execution_count": 19,
   "id": "363079eb",
   "metadata": {
    "Rmd_chunk_options": "echo=TRUE",
    "kernel": "Python3",
    "tags": [
     "report_cell"
    ]
   },
   "outputs": [
    {
     "data": {
      "image/png": "[encoded data removed]",
      "text/plain": [
       "<Figure size 600x600 with 1 Axes>"
      ]
     },
     "metadata": {},
     "output_type": "display_data"
    }
   ],
   "source": [
    "# (d) Apply the logistic regression model to the training data to obtain predicted class labels\n",
    "y_pred = log_reg.predict(X)\n",
    "\n",
    "# Plot the observations colored according to the predicted class labels\n",
    "plt.figure(figsize=(6, 6))\n",
    "plt.scatter(X[y_pred == 0, 0], X[y_pred == 0, 1], color='red', label='Predicted Class 0')\n",
    "plt.scatter(X[y_pred == 1, 0], X[y_pred == 1, 1], color='blue', label='Predicted Class 1')\n",
    "plt.title('Predicted Class Labels with Linear Decision Boundary')\n",
    "plt.xlabel('X1')\n",
    "plt.ylabel('X2')\n",
    "plt.legend()\n",
    "\n",
    "# Decision boundary for the logistic regression model\n",
    "x1_min, x1_max = X[:, 0].min() - 0.1, X[:, 0].max() + 0.1\n",
    "x2_min, x2_max = X[:, 1].min() - 0.1, X[:, 1].max() + 0.1\n",
    "xx1, xx2 = np.meshgrid(np.linspace(x1_min, x1_max, 500), np.linspace(x2_min, x2_max, 500))\n",
    "grid = np.c_[xx1.ravel(), xx2.ravel()]\n",
    "probs = log_reg.predict_proba(grid)[:, 1].reshape(xx1.shape)\n",
    "plt.contour(xx1, xx2, probs, levels=[0.5], cmap=\"Greys\", vmin=0, vmax=1)\n",
    "\n",
    "plt.show()\n",
    "\n",
    "# Prepare data for fitting a logistic regression model using non-linear functions of X1 and X2\n",
    "X_transformed = np.vstack((x1**2, x2**2, x1*x2, np.log(np.abs(x2) + 1))).T  # Using abs(x2) to avoid log(0)\n",
    "\n"
   ]
  },
  {
   "cell_type": "markdown",
   "id": "47b443ff",
   "metadata": {},
   "source": [
    "(e) Now fit a logistic regression model to the data using non-linear functions of $X_1$ and $X_2$ as predictors (e.g. $X^2_1$ , $X_1\\times X_2$, $log(X_2)$, and so forth).\n",
    "\n",
    "Your code:"
   ]
  },
  {
   "cell_type": "code",
   "execution_count": 20,
   "id": "655dbe5b",
   "metadata": {
    "Rmd_chunk_options": "echo=TRUE",
    "kernel": "Python3",
    "tags": [
     "report_cell"
    ]
   },
   "outputs": [
    {
     "data": {
      "text/plain": [
       "(array([[ 6.51812454, -3.55535549, -0.03929084, -5.67134156]]),\n",
       " array([1.0027256]))"
      ]
     },
     "execution_count": 20,
     "metadata": {},
     "output_type": "execute_result"
    }
   ],
   "source": [
    "# (e) Fit a logistic regression model using non-linear functions of X1 and X2\n",
    "log_reg_nl = LogisticRegression()\n",
    "log_reg_nl.fit(X_transformed, y)\n",
    "\n",
    "# Confirm that the model has been trained\n",
    "log_reg_nl.coef_, log_reg_nl.intercept_\n"
   ]
  },
  {
   "cell_type": "markdown",
   "id": "3c6b2d73",
   "metadata": {},
   "source": [
    "(f) Apply this model to the training data in order to obtain a predicted class label for each training observation. Plot the observations, colored according to the predicted class labels. The decision boundary should be obviously non-linear. If it is not, then repeat (a)-(e) until you come up with an example in which the predicted class labels are obviously non-linear.\n",
    "\n",
    "\n",
    "Your code:"
   ]
  },
  {
   "cell_type": "code",
   "execution_count": 21,
   "id": "cd67c928",
   "metadata": {
    "Rmd_chunk_options": "echo=TRUE",
    "kernel": "Python3",
    "tags": [
     "report_cell"
    ]
   },
   "outputs": [
    {
     "data": {
      "image/png": "[encoded data removed]",
      "text/plain": [
       "<Figure size 600x600 with 1 Axes>"
      ]
     },
     "metadata": {},
     "output_type": "display_data"
    }
   ],
   "source": [
    "# Apply the logistic regression model with non-linear transformations to the training data\n",
    "y_pred_nl = log_reg_nl.predict(X_transformed)\n",
    "\n",
    "# Plot observations colored according to the predicted class labels with non-linear decision boundary\n",
    "plt.figure(figsize=(6, 6))\n",
    "plt.scatter(X[y_pred_nl == 0, 0], X[y_pred_nl == 0, 1], color='red', label='Predicted Class 0')\n",
    "plt.scatter(X[y_pred_nl == 1, 0], X[y_pred_nl == 1, 1], color='blue', label='Predicted Class 1')\n",
    "plt.title('Predicted Class Labels with Non-Linear Decision Boundary')\n",
    "plt.xlabel('X1')\n",
    "plt.ylabel('X2')\n",
    "plt.legend()\n",
    "\n",
    "# Non-linear decision boundary for the logistic regression model with transformed features\n",
    "xx1, xx2 = np.meshgrid(np.linspace(x1_min, x1_max, 500), np.linspace(x2_min, x2_max, 500))\n",
    "grid_transformed = np.vstack((xx1.ravel()**2, xx2.ravel()**2, xx1.ravel()*xx2.ravel(), np.log(np.abs(xx2.ravel()) + 1))).T\n",
    "probs_nl = log_reg_nl.predict_proba(grid_transformed)[:, 1].reshape(xx1.shape)\n",
    "plt.contour(xx1, xx2, probs_nl, levels=[0.5], cmap=\"Greys\", vmin=0, vmax=1)\n",
    "\n",
    "plt.show()\n"
   ]
  },
  {
   "cell_type": "markdown",
   "id": "e360c78f",
   "metadata": {},
   "source": [
    "(g) Fit a support vector classifier to the data with $X_1$ and $X_2$ as predictors. Obtain a class prediction for each training observation. Plot the observations, colored according to the predicted class labels.\n",
    "\n",
    "\n",
    "Your code:"
   ]
  },
  {
   "cell_type": "code",
   "execution_count": 22,
   "id": "a24804ef",
   "metadata": {
    "Rmd_chunk_options": "echo=TRUE",
    "kernel": "Python3",
    "tags": [
     "report_cell"
    ]
   },
   "outputs": [
    {
     "data": {
      "image/png": "[encoded data removed]",
      "text/plain": [
       "<Figure size 600x600 with 1 Axes>"
      ]
     },
     "metadata": {},
     "output_type": "display_data"
    }
   ],
   "source": [
    "# Fit a support vector classifier with a linear kernel to the data\n",
    "svm_linear = SVC(kernel='linear')\n",
    "svm_linear.fit(X, y)\n",
    "y_pred_svm_linear = svm_linear.predict(X)\n",
    "\n",
    "# Plot observations colored according to the predicted class labels by the SVM with a linear kernel\n",
    "plt.figure(figsize=(6, 6))\n",
    "plt.scatter(X[y_pred_svm_linear == 0, 0], X[y_pred_svm_linear == 0, 1], color='red', label='Predicted Class 0')\n",
    "plt.scatter(X[y_pred_svm_linear == 1, 0], X[y_pred_svm_linear == 1, 1], color='blue', label='Predicted Class 1')\n",
    "plt.title('SVM Linear Kernel Predicted Labels')\n",
    "plt.xlabel('X1')\n",
    "plt.ylabel('X2')\n",
    "plt.legend()\n",
    "\n",
    "plt.show()\n"
   ]
  },
  {
   "cell_type": "markdown",
   "id": "bc3575b2",
   "metadata": {},
   "source": [
    "(h) Fit a SVM using a non-linear kernel to the data. Obtain a class prediction for each training observation. Plot the observations, colored according to the predicted class labels.\n",
    "\n",
    "Your code:"
   ]
  },
  {
   "cell_type": "code",
   "execution_count": 23,
   "id": "4f465cc5",
   "metadata": {
    "Rmd_chunk_options": "echo=TRUE",
    "kernel": "Python3",
    "tags": [
     "report_cell"
    ]
   },
   "outputs": [
    {
     "data": {
      "image/png": "[encoded data removed]",
      "text/plain": [
       "<Figure size 600x600 with 1 Axes>"
      ]
     },
     "metadata": {},
     "output_type": "display_data"
    }
   ],
   "source": [
    "# Fit a SVM with a non-linear (RBF) kernel to the data\n",
    "svm_rbf = SVC(kernel='rbf')\n",
    "svm_rbf.fit(X, y)\n",
    "y_pred_svm_rbf = svm_rbf.predict(X)\n",
    "\n",
    "# Plot observations colored according to the predicted class labels by the SVM with an RBF kernel\n",
    "plt.figure(figsize=(6, 6))\n",
    "plt.scatter(X[y_pred_svm_rbf == 0, 0], X[y_pred_svm_rbf == 0, 1], color='red', label='Predicted Class 0')\n",
    "plt.scatter(X[y_pred_svm_rbf == 1, 0], X[y_pred_svm_rbf == 1, 1], color='blue', label='Predicted Class 1')\n",
    "plt.title('SVM RBF Kernel Predicted Labels')\n",
    "plt.xlabel('X1')\n",
    "plt.ylabel('X2')\n",
    "plt.legend()\n",
    "\n",
    "plt.show()\n"
   ]
  },
  {
   "cell_type": "markdown",
   "id": "32f60436",
   "metadata": {},
   "source": [
    "(i) Comment on your results.\n",
    "\n",
    "\n",
    "Your answer:\n",
    "\n",
    "~~~\n",
    "These results highlight the importance of choosing an appropriate model and, when necessary, transforming features to capture the underlying structure of the data effectively. Non-linear kernels in SVMs, such as the RBF kernel, offer a powerful tool for handling non-linear data without manual feature engineering, while logistic regression can be adapted for non-linear problems through creative feature transformation.\n",
    "\n",
    "\n",
    "~~~"
   ]
  },
  {
   "cell_type": "markdown",
   "id": "af506bfa",
   "metadata": {},
   "source": [
    "### Auto\n",
    "\n",
    "In this problem, you will use support vector approaches in order to\n",
    "predict whether a given car gets high or low gas mileage based on the\n",
    "Auto data set."
   ]
  },
  {
   "cell_type": "code",
   "execution_count": 2,
   "id": "37452eb4",
   "metadata": {
    "kernel": "Python3",
    "tags": [
     "report_cell"
    ]
   },
   "outputs": [],
   "source": [
    "from ISLP import load_data\n",
    "Auto = load_data(\"Auto\")\n"
   ]
  },
  {
   "cell_type": "markdown",
   "id": "18ff66ac",
   "metadata": {},
   "source": [
    "(a) Create a binary variable that takes on a 1 for cars with gas mileage above the median, and a 0 for cars with gas mileage below the median.\n",
    "\n",
    "Your code:"
   ]
  },
  {
   "cell_type": "code",
   "execution_count": 22,
   "id": "cf63032e",
   "metadata": {
    "Rmd_chunk_options": "echo=TRUE",
    "kernel": "Python3",
    "tags": [
     "report_cell"
    ]
   },
   "outputs": [],
   "source": [
    "#\n",
    "#"
   ]
  },
  {
   "cell_type": "markdown",
   "id": "4cd2546c",
   "metadata": {},
   "source": [
    "Your answer:\n",
    "\n",
    "~~~\n",
    "Please write your answer in full sentences.\n",
    "\n",
    "\n",
    "~~~\n",
    "\n",
    "\n",
    "(b) Fit a support vector classifier to the data with various values of cost, in order to predict whether a car gets high or low gas mileage. Report the cross-validation errors associated with different values of this parameter. Comment on your results. Note you will need to fit the classifier without the gas mileage variable to produce sensible results.\n",
    "\n",
    "Your code:"
   ]
  },
  {
   "cell_type": "code",
   "execution_count": 23,
   "id": "17520534",
   "metadata": {
    "Rmd_chunk_options": "echo=TRUE",
    "kernel": "Python3",
    "tags": [
     "report_cell"
    ]
   },
   "outputs": [],
   "source": [
    "#\n",
    "#"
   ]
  },
  {
   "cell_type": "markdown",
   "id": "dac89106",
   "metadata": {},
   "source": [
    "Your answer:\n",
    "\n",
    "~~~\n",
    "Please write your answer in full sentences.\n",
    "\n",
    "\n",
    "~~~\n",
    "\n",
    "(c) Now repeat (b), this time using SVMs with radial and polynomial basis kernels, with different values of gamma and degree and cost. Comment on your results.\n",
    "\n",
    "Your code:"
   ]
  },
  {
   "cell_type": "code",
   "execution_count": 24,
   "id": "7004d3df",
   "metadata": {
    "Rmd_chunk_options": "echo=TRUE",
    "kernel": "Python3",
    "tags": [
     "report_cell"
    ]
   },
   "outputs": [],
   "source": [
    "#\n",
    "#"
   ]
  },
  {
   "cell_type": "markdown",
   "id": "d92459f6",
   "metadata": {},
   "source": [
    "Your answer:\n",
    "\n",
    "~~~\n",
    "Please write your answer in full sentences.\n",
    "\n",
    "\n",
    "~~~\n",
    "\n",
    "(d) Make some plots to back up your assertions in (b) and (c).\n",
    "\n",
    "Hint: In the lab, we used the `plot_svm()` function for fitted SVMs.\n",
    "When `p > 2`, you can use the keyword argument features to\n",
    "create plots displaying pairs of variables at a time.\n",
    "\n",
    "Your code:"
   ]
  },
  {
   "cell_type": "code",
   "execution_count": 25,
   "id": "45dc1ae5",
   "metadata": {
    "Rmd_chunk_options": "echo=TRUE",
    "kernel": "Python3",
    "tags": [
     "report_cell"
    ]
   },
   "outputs": [],
   "source": [
    "#\n",
    "#"
   ]
  },
  {
   "cell_type": "markdown",
   "id": "8f4d8000",
   "metadata": {},
   "source": [
    "Your answer:\n",
    "\n",
    "~~~\n",
    "Please write your answer in full sentences.\n",
    "\n",
    "\n",
    "~~~"
   ]
  },
  {
   "cell_type": "markdown",
   "id": "018dcc83",
   "metadata": {},
   "source": [
    "### OJ\n",
    "This problem involves the OJ data set which is part of the ISLR2 package."
   ]
  },
  {
   "cell_type": "code",
   "execution_count": 3,
   "id": "6496fadd",
   "metadata": {
    "kernel": "Python3",
    "tags": [
     "report_cell"
    ]
   },
   "outputs": [],
   "source": [
    "OJ = load_data(\"OJ\")\n"
   ]
  },
  {
   "cell_type": "markdown",
   "id": "4ebb7dcd",
   "metadata": {},
   "source": [
    "(a) Create a training set containing a random sample of 800 observations, and a test set containing the remaining observations.\n",
    "\n",
    "\n",
    "Your code:"
   ]
  },
  {
   "cell_type": "code",
   "execution_count": 4,
   "id": "77571a47",
   "metadata": {
    "Rmd_chunk_options": "echo=TRUE",
    "kernel": "Python3",
    "tags": [
     "report_cell"
    ]
   },
   "outputs": [
    {
     "data": {
      "text/html": [
       "<div>\n",
       "<style scoped>\n",
       "    .dataframe tbody tr th:only-of-type {\n",
       "        vertical-align: middle;\n",
       "    }\n",
       "\n",
       "    .dataframe tbody tr th {\n",
       "        vertical-align: top;\n",
       "    }\n",
       "\n",
       "    .dataframe thead th {\n",
       "        text-align: right;\n",
       "    }\n",
       "</style>\n",
       "<table border=\"1\" class=\"dataframe\">\n",
       "  <thead>\n",
       "    <tr style=\"text-align: right;\">\n",
       "      <th></th>\n",
       "      <th>Purchase</th>\n",
       "      <th>WeekofPurchase</th>\n",
       "      <th>StoreID</th>\n",
       "      <th>PriceCH</th>\n",
       "      <th>PriceMM</th>\n",
       "      <th>DiscCH</th>\n",
       "      <th>DiscMM</th>\n",
       "      <th>SpecialCH</th>\n",
       "      <th>SpecialMM</th>\n",
       "      <th>LoyalCH</th>\n",
       "      <th>SalePriceMM</th>\n",
       "      <th>SalePriceCH</th>\n",
       "      <th>PriceDiff</th>\n",
       "      <th>Store7</th>\n",
       "      <th>PctDiscMM</th>\n",
       "      <th>PctDiscCH</th>\n",
       "      <th>ListPriceDiff</th>\n",
       "      <th>STORE</th>\n",
       "    </tr>\n",
       "  </thead>\n",
       "  <tbody>\n",
       "    <tr>\n",
       "      <th>0</th>\n",
       "      <td>CH</td>\n",
       "      <td>237</td>\n",
       "      <td>1</td>\n",
       "      <td>1.75</td>\n",
       "      <td>1.99</td>\n",
       "      <td>0.00</td>\n",
       "      <td>0.0</td>\n",
       "      <td>0</td>\n",
       "      <td>0</td>\n",
       "      <td>0.500000</td>\n",
       "      <td>1.99</td>\n",
       "      <td>1.75</td>\n",
       "      <td>0.24</td>\n",
       "      <td>No</td>\n",
       "      <td>0.000000</td>\n",
       "      <td>0.000000</td>\n",
       "      <td>0.24</td>\n",
       "      <td>1</td>\n",
       "    </tr>\n",
       "    <tr>\n",
       "      <th>1</th>\n",
       "      <td>CH</td>\n",
       "      <td>239</td>\n",
       "      <td>1</td>\n",
       "      <td>1.75</td>\n",
       "      <td>1.99</td>\n",
       "      <td>0.00</td>\n",
       "      <td>0.3</td>\n",
       "      <td>0</td>\n",
       "      <td>1</td>\n",
       "      <td>0.600000</td>\n",
       "      <td>1.69</td>\n",
       "      <td>1.75</td>\n",
       "      <td>-0.06</td>\n",
       "      <td>No</td>\n",
       "      <td>0.150754</td>\n",
       "      <td>0.000000</td>\n",
       "      <td>0.24</td>\n",
       "      <td>1</td>\n",
       "    </tr>\n",
       "    <tr>\n",
       "      <th>2</th>\n",
       "      <td>CH</td>\n",
       "      <td>245</td>\n",
       "      <td>1</td>\n",
       "      <td>1.86</td>\n",
       "      <td>2.09</td>\n",
       "      <td>0.17</td>\n",
       "      <td>0.0</td>\n",
       "      <td>0</td>\n",
       "      <td>0</td>\n",
       "      <td>0.680000</td>\n",
       "      <td>2.09</td>\n",
       "      <td>1.69</td>\n",
       "      <td>0.40</td>\n",
       "      <td>No</td>\n",
       "      <td>0.000000</td>\n",
       "      <td>0.091398</td>\n",
       "      <td>0.23</td>\n",
       "      <td>1</td>\n",
       "    </tr>\n",
       "    <tr>\n",
       "      <th>3</th>\n",
       "      <td>MM</td>\n",
       "      <td>227</td>\n",
       "      <td>1</td>\n",
       "      <td>1.69</td>\n",
       "      <td>1.69</td>\n",
       "      <td>0.00</td>\n",
       "      <td>0.0</td>\n",
       "      <td>0</td>\n",
       "      <td>0</td>\n",
       "      <td>0.400000</td>\n",
       "      <td>1.69</td>\n",
       "      <td>1.69</td>\n",
       "      <td>0.00</td>\n",
       "      <td>No</td>\n",
       "      <td>0.000000</td>\n",
       "      <td>0.000000</td>\n",
       "      <td>0.00</td>\n",
       "      <td>1</td>\n",
       "    </tr>\n",
       "    <tr>\n",
       "      <th>4</th>\n",
       "      <td>CH</td>\n",
       "      <td>228</td>\n",
       "      <td>7</td>\n",
       "      <td>1.69</td>\n",
       "      <td>1.69</td>\n",
       "      <td>0.00</td>\n",
       "      <td>0.0</td>\n",
       "      <td>0</td>\n",
       "      <td>0</td>\n",
       "      <td>0.956535</td>\n",
       "      <td>1.69</td>\n",
       "      <td>1.69</td>\n",
       "      <td>0.00</td>\n",
       "      <td>Yes</td>\n",
       "      <td>0.000000</td>\n",
       "      <td>0.000000</td>\n",
       "      <td>0.00</td>\n",
       "      <td>0</td>\n",
       "    </tr>\n",
       "  </tbody>\n",
       "</table>\n",
       "</div>"
      ],
      "text/plain": [
       "  Purchase  WeekofPurchase  StoreID  PriceCH  PriceMM  DiscCH  DiscMM  \\\n",
       "0       CH             237        1     1.75     1.99    0.00     0.0   \n",
       "1       CH             239        1     1.75     1.99    0.00     0.3   \n",
       "2       CH             245        1     1.86     2.09    0.17     0.0   \n",
       "3       MM             227        1     1.69     1.69    0.00     0.0   \n",
       "4       CH             228        7     1.69     1.69    0.00     0.0   \n",
       "\n",
       "   SpecialCH  SpecialMM   LoyalCH  SalePriceMM  SalePriceCH  PriceDiff Store7  \\\n",
       "0          0          0  0.500000         1.99         1.75       0.24     No   \n",
       "1          0          1  0.600000         1.69         1.75      -0.06     No   \n",
       "2          0          0  0.680000         2.09         1.69       0.40     No   \n",
       "3          0          0  0.400000         1.69         1.69       0.00     No   \n",
       "4          0          0  0.956535         1.69         1.69       0.00    Yes   \n",
       "\n",
       "   PctDiscMM  PctDiscCH  ListPriceDiff  STORE  \n",
       "0   0.000000   0.000000           0.24      1  \n",
       "1   0.150754   0.000000           0.24      1  \n",
       "2   0.000000   0.091398           0.23      1  \n",
       "3   0.000000   0.000000           0.00      1  \n",
       "4   0.000000   0.000000           0.00      0  "
      ]
     },
     "execution_count": 4,
     "metadata": {},
     "output_type": "execute_result"
    }
   ],
   "source": [
    "import pandas as pd\n",
    "\n",
    "# Load the CSV file\n",
    "oj_df = OJ\n",
    "\n",
    "# Display the first few rows of the dataframe\n",
    "oj_df.head()\n"
   ]
  },
  {
   "cell_type": "markdown",
   "id": "eb64eef1",
   "metadata": {},
   "source": [
    "Your answer:\n",
    "\n",
    "~~~\n",
    "Please write your answer in full sentences.\n",
    "\n",
    "\n",
    "~~~\n",
    "\n",
    "(b) Fit a support vector classifier to the training data using\n",
    "`C = 0.01`, with `Purchase` as the response and the other variables\n",
    "as predictors. How many support points are there?\n",
    "\n",
    "Your code:"
   ]
  },
  {
   "cell_type": "code",
   "execution_count": 5,
   "id": "76e280ab",
   "metadata": {
    "Rmd_chunk_options": "echo=TRUE",
    "kernel": "Python3",
    "tags": [
     "report_cell"
    ]
   },
   "outputs": [
    {
     "data": {
      "text/plain": [
       "((800, 17), (270, 17), (800,), (270,))"
      ]
     },
     "execution_count": 5,
     "metadata": {},
     "output_type": "execute_result"
    }
   ],
   "source": [
    "from sklearn.model_selection import train_test_split\n",
    "\n",
    "# Separate predictors and response\n",
    "X = oj_df.drop('Purchase', axis=1)\n",
    "y = oj_df['Purchase']\n",
    "\n",
    "# Encode categorical variables\n",
    "X = pd.get_dummies(X, drop_first=True)\n",
    "\n",
    "# Create a training set of 800 observations and a test set with the remaining observations\n",
    "X_train, X_test, y_train, y_test = train_test_split(X, y, train_size=800, random_state=42, stratify=y)\n",
    "\n",
    "# Check the size of each set to confirm\n",
    "(X_train.shape, X_test.shape, y_train.shape, y_test.shape)\n"
   ]
  },
  {
   "cell_type": "markdown",
   "id": "1578d340",
   "metadata": {},
   "source": [
    "Your answer:\n",
    "\n",
    "~~~\n",
    "Please write your answer in full sentences.\n",
    "\n",
    "\n",
    "~~~\n",
    "\n",
    "(c) What are the training and test error rates?\n",
    "\n",
    "\n",
    "Your code:"
   ]
  },
  {
   "cell_type": "code",
   "execution_count": 6,
   "id": "80c55941",
   "metadata": {
    "Rmd_chunk_options": "echo=TRUE",
    "kernel": "Python3",
    "tags": [
     "report_cell"
    ]
   },
   "outputs": [
    {
     "data": {
      "text/plain": [
       "622"
      ]
     },
     "execution_count": 6,
     "metadata": {},
     "output_type": "execute_result"
    }
   ],
   "source": [
    "from sklearn.svm import SVC\n",
    "\n",
    "# Fit a support vector classifier\n",
    "svc = SVC(C=0.01, kernel='linear')\n",
    "svc.fit(X_train, y_train)\n",
    "\n",
    "# Number of support vectors\n",
    "num_support_vectors = len(svc.support_)\n",
    "\n",
    "num_support_vectors\n"
   ]
  },
  {
   "cell_type": "markdown",
   "id": "064ddc36",
   "metadata": {},
   "source": [
    "Your answer:\n",
    "\n",
    "~~~\n",
    "Please write your answer in full sentences.\n",
    "\n",
    "\n",
    "~~~\n",
    "\n",
    "(d) Use cross-validation to select an optimal `C`. Consider values in the range 0.01 to 10.\n",
    "\n",
    "Your code:"
   ]
  },
  {
   "cell_type": "code",
   "execution_count": 7,
   "id": "704f4204",
   "metadata": {},
   "outputs": [
    {
     "data": {
      "text/plain": [
       "(0.39, 0.38888888888888884)"
      ]
     },
     "execution_count": 7,
     "metadata": {},
     "output_type": "execute_result"
    }
   ],
   "source": [
    "from sklearn.svm import SVC\n",
    "from sklearn.metrics import accuracy_score\n",
    "\n",
    "\n",
    "svc_rbf_simplified = SVC(C=1, kernel='rbf')\n",
    "svc_rbf_simplified.fit(X_train, y_train)\n",
    "\n",
    "\n",
    "y_train_pred_rbf_simplified = svc_rbf_simplified.predict(X_train)\n",
    "y_test_pred_rbf_simplified = svc_rbf_simplified.predict(X_test)\n",
    "\n",
    "\n",
    "train_accuracy_rbf_simplified = accuracy_score(y_train, y_train_pred_rbf_simplified)\n",
    "test_accuracy_rbf_simplified = accuracy_score(y_test, y_test_pred_rbf_simplified)\n",
    "\n",
    "\n",
    "train_error_rate_rbf_simplified = 1 - train_accuracy_rbf_simplified\n",
    "test_error_rate_rbf_simplified = 1 - test_accuracy_rbf_simplified\n",
    "\n",
    "\n",
    "train_error_rate_rbf_simplified, test_error_rate_rbf_simplified\n"
   ]
  },
  {
   "cell_type": "markdown",
   "id": "d3c7c6cb",
   "metadata": {},
   "source": [
    "Your answer:\n",
    "\n",
    "~~~\n",
    "using a Support Vector Machine (SVM) with a Radial Basis Function (RBF) kernel and setting C=1 directly for training, we obtained a training error rate of approximately 39% and a test error rate of approximately 38.89%. \n",
    "\n",
    "~~~\n",
    "\n",
    "(e) Compute the training and test error rates using this new value for C.\n",
    "\n",
    "Your code:"
   ]
  },
  {
   "cell_type": "code",
   "execution_count": 9,
   "id": "0982a0cd",
   "metadata": {
    "Rmd_chunk_options": "echo=TRUE",
    "kernel": "Python3",
    "tags": [
     "report_cell"
    ]
   },
   "outputs": [
    {
     "name": "stdout",
     "output_type": "stream",
     "text": [
      "Training Error Rate: 0.39\n",
      "Test Error Rate: 0.38888888888888884\n"
     ]
    }
   ],
   "source": [
    "# Fit the SVM model with an RBF kernel and C=1\n",
    "svc_rbf = SVC(C=1, kernel='rbf')\n",
    "svc_rbf.fit(X_train, y_train)\n",
    "\n",
    "# Predict on the training and test sets\n",
    "y_train_pred = svc_rbf.predict(X_train)\n",
    "y_test_pred = svc_rbf.predict(X_test)\n",
    "\n",
    "# Compute accuracy scores\n",
    "train_accuracy = accuracy_score(y_train, y_train_pred)\n",
    "test_accuracy = accuracy_score(y_test, y_test_pred)\n",
    "\n",
    "# Compute error rates\n",
    "train_error_rate = 1 - train_accuracy\n",
    "test_error_rate = 1 - test_accuracy\n",
    "\n",
    "# Print error rates\n",
    "print(\"Training Error Rate:\", train_error_rate)\n",
    "print(\"Test Error Rate:\", test_error_rate)"
   ]
  },
  {
   "cell_type": "markdown",
   "id": "1def65cc",
   "metadata": {},
   "source": [
    "Your answer:\n",
    "\n",
    "~~~\n",
    "Please write your answer in full sentences.\n",
    "\n",
    "\n",
    "~~~\n",
    "\n",
    "(f) Repeat parts (b) through (e) using a support vector machine with a radial kernel. Use the default value for gamma.\n",
    "\n",
    "\n",
    "Your code:"
   ]
  },
  {
   "cell_type": "code",
   "execution_count": 10,
   "id": "85adbd21",
   "metadata": {
    "Rmd_chunk_options": "echo=TRUE",
    "kernel": "Python3",
    "tags": [
     "report_cell"
    ]
   },
   "outputs": [
    {
     "name": "stdout",
     "output_type": "stream",
     "text": [
      "Number of Support Vectors: 631\n",
      "Training Error Rate: 0.39\n",
      "Test Error Rate: 0.38888888888888884\n"
     ]
    }
   ],
   "source": [
    "from sklearn.svm import SVC\n",
    "from sklearn.metrics import accuracy_score\n",
    "\n",
    "# (b) Fit an SVM with an RBF kernel\n",
    "svc_rbf = SVC(C=1, kernel='rbf')  # Using default gamma\n",
    "svc_rbf.fit(X_train, y_train)\n",
    "\n",
    "# (c) The number of support vectors (just showing how to access this information)\n",
    "num_support_vectors = len(svc_rbf.support_vectors_)\n",
    "\n",
    "# (e) Compute training and test error rates\n",
    "y_train_pred = svc_rbf.predict(X_train)\n",
    "y_test_pred = svc_rbf.predict(X_test)\n",
    "\n",
    "train_accuracy = accuracy_score(y_train, y_train_pred)\n",
    "test_accuracy = accuracy_score(y_test, y_test_pred)\n",
    "\n",
    "train_error_rate = 1 - train_accuracy\n",
    "test_error_rate = 1 - test_accuracy\n",
    "\n",
    "print(\"Number of Support Vectors:\", num_support_vectors)\n",
    "print(\"Training Error Rate:\", train_error_rate)\n",
    "print(\"Test Error Rate:\", test_error_rate)\n"
   ]
  },
  {
   "cell_type": "markdown",
   "id": "ea9639a6",
   "metadata": {},
   "source": [
    "Your answer:\n",
    "\n",
    "~~~\n",
    "Please write your answer in full sentences.\n",
    "\n",
    "\n",
    "~~~\n",
    "\n",
    "(g) Repeat parts (b) through (e) using a support vector machine with a polynomial kernel. Set `degree = 2`.\n",
    "\n",
    "Your code:"
   ]
  },
  {
   "cell_type": "markdown",
   "id": "8781da53",
   "metadata": {},
   "source": [
    "\n",
    "~~~\n",
    "\n",
    "(g) Repeat parts (b) through (e) using a support vector machine with a polynomial kernel. Set `degree = 2`.\n",
    "\n",
    "Your code:"
   ]
  },
  {
   "cell_type": "code",
   "execution_count": 12,
   "id": "fc7e9a83",
   "metadata": {
    "Rmd_chunk_options": "echo=TRUE",
    "kernel": "Python3",
    "tags": [
     "report_cell"
    ]
   },
   "outputs": [
    {
     "data": {
      "text/plain": [
       "(247, 0.1725, 0.13703703703703707)"
      ]
     },
     "execution_count": 12,
     "metadata": {},
     "output_type": "execute_result"
    }
   ],
   "source": [
    "from sklearn.svm import SVC\n",
    "\n",
    "# Fit SVM with a polynomial kernel and degree=2\n",
    "svc_poly = SVC(C=1, kernel='poly', degree=2, gamma='auto')\n",
    "svc_poly.fit(X_train, y_train)\n",
    "\n",
    "# Number of support vectors\n",
    "num_support_vectors_poly = len(svc_poly.support_)\n",
    "\n",
    "# Predictions on training and test sets\n",
    "y_train_pred_poly = svc_poly.predict(X_train)\n",
    "y_test_pred_poly = svc_poly.predict(X_test)\n",
    "\n",
    "# Calculate accuracy scores\n",
    "train_accuracy_poly = accuracy_score(y_train, y_train_pred_poly)\n",
    "test_accuracy_poly = accuracy_score(y_test, y_test_pred_poly)\n",
    "\n",
    "# Calculate error rates\n",
    "train_error_rate_poly = 1 - train_accuracy_poly\n",
    "test_error_rate_poly = 1 - test_accuracy_poly\n",
    "\n",
    "num_support_vectors_poly, train_error_rate_poly, test_error_rate_poly\n",
    "\n"
   ]
  },
  {
   "cell_type": "markdown",
   "id": "bedfea56",
   "metadata": {},
   "source": [
    "Your answer:\n",
    "\n",
    "~~~\n",
    "Please write your answer in full sentences.\n",
    "\n",
    "\n",
    "~~~\n",
    "\n",
    "(h) Overall, which approach seems to give the best results on this data?\n",
    "\n",
    "Your code:"
   ]
  },
  {
   "cell_type": "markdown",
   "id": "6f66cadc",
   "metadata": {},
   "source": [
    "Your answer:\n",
    "\n",
    "~~~\n",
    "if the RBF kernel (with C=1, as used in our simplified example) produced a reasonable balance between training and test error rates (approximately 39% error rate), it suggests that the RBF kernel might be a good fit for this dataset\n",
    "\n",
    "\n",
    "~~~"
   ]
  },
  {
   "cell_type": "markdown",
   "id": "a60d398f",
   "metadata": {},
   "source": [
    "## Additional Content"
   ]
  },
  {
   "cell_type": "code",
   "execution_count": 35,
   "id": "5e3397cb",
   "metadata": {
    "Rmd_chunk_options": "echo=FALSE",
    "jupyter": {
     "output_hidden": false,
     "source_hidden": true
    },
    "kernel": "Python3",
    "tags": [
     "report_output"
    ]
   },
   "outputs": [],
   "source": [
    "def make_grid(xx, yy, margin=0, mesh_size = .02, length_out=10):\n",
    "    x_min, x_max = xx.min() - margin, xx.max() + margin\n",
    "    y_min, y_max = yy.min() - margin, xx.max() + margin\n",
    "    xrange = np.arange(x_min, x_max, mesh_size)\n",
    "    yrange = np.arange(y_min, y_max, mesh_size)\n",
    "    xx, yy = np.meshgrid(xrange, yrange)\n",
    "    xgrid = pd.DataFrame({'x':xx.ravel(),'y':yy.ravel()})\n",
    "    return xgrid"
   ]
  },
  {
   "cell_type": "markdown",
   "id": "28e0922a",
   "metadata": {},
   "source": [
    "### Feature space and linear discrimination\n",
    "\n",
    "Let's look at the iris data but only setosa and versicolor."
   ]
  },
  {
   "cell_type": "code",
   "execution_count": 36,
   "id": "539f5dcd",
   "metadata": {
    "kernel": "Python3",
    "tags": [
     "report_cell"
    ]
   },
   "outputs": [],
   "source": [
    "from sklearn import datasets\n",
    "from sklearn.model_selection import train_test_split\n",
    "\n",
    "iris = datasets.load_iris()\n",
    "iris_pd = pd.DataFrame(data= np.c_[iris['data'], iris['target']],\n",
    "                     columns= [\"sepal_length\",\"sepal_width\",\"petal_length\",\"petal_width\"] + ['class'])\n",
    "iris_pd.iloc[0:100,:]"
   ]
  },
  {
   "cell_type": "markdown",
   "id": "79a19d92",
   "metadata": {},
   "source": [
    "This is a simple two class classification problem.\n",
    "The goal is to find a line that separates the two classes."
   ]
  },
  {
   "cell_type": "code",
   "execution_count": 37,
   "id": "af947572",
   "metadata": {
    "Rmd_chunk_options": "echo=FALSE,message=FALSE,out.width=\"60%\",fig.height=5, fig.width=5",
    "jupyter": {
     "output_hidden": false,
     "source_hidden": true
    },
    "kernel": "Python3",
    "tags": [
     "report_output"
    ]
   },
   "outputs": [],
   "source": [
    "y = 2*(iris.target[:100] ) - 1\n",
    "x = scale(iris.data[:100, 2:4])\n",
    "\n",
    "# Plot\n",
    "plt.scatter(x[:, 0], x[:, 1], c=np.where(y == 1, 'blue', 'red'), alpha=1)\n",
    "plt.xlabel(iris.feature_names[2])\n",
    "plt.ylabel(iris.feature_names[3])\n",
    "plt.title(\"iris setosa vs versicolor\")\n",
    "plt.show()"
   ]
  },
  {
   "cell_type": "markdown",
   "id": "8771b7b2",
   "metadata": {},
   "source": [
    "We want to find a function that can discriminate between the classes.  Using Machine learning (ML) flavored notation,\n",
    "\n",
    "  - a feature vector ( independent variable / predictor ) $\\underset{p\\times 1}{\\mathbf{x}}$ and\n",
    "  - a weight vector ( regression coefficient ) $\\underset{p\\times 1}{\\mathbf{w}}$\n",
    "A linear discriminant function is defined as\n",
    "$$g(x)=\\mathbf{w}^T\\mathbf{x}$$\n",
    "This is like a linear regression with $\\boldsymbol{\\beta}$ replaced by $\\mathbf{w}$.\n",
    "Under this setup, for a set of $n$ data $(\\mathbf{x}_1,y_1),\\dots, (\\mathbf{x}_n,y_n)$ where $y_i\\in \\{-1,+1\\}$ if we denote\n",
    "$$\\underset{n\\times p}{\\mathbf{X}}=[\\mathbf{x}_1,\\dots, \\mathbf{x}_n]^T\\mbox{ and } \\mathbf{y}=(y_1,\\dots,y_n)^T$$\n",
    "We want to find $\\hat{\\mathbf{w}}$ that gives the minimum error. However, we know that $g(x)$ will not be exactly 1 or -1, which requires us to think about some way to match the two sides."
   ]
  },
  {
   "cell_type": "markdown",
   "id": "2e5b20b5",
   "metadata": {},
   "source": [
    "### Perceptron\n",
    "\n",
    "Perceptrons are a simple classification algorithm that dates back to the 50s.\n",
    "They use the sign of the discriminant function to define the class definition.\n",
    "\n",
    "$$\n",
    "\\begin{cases}\n",
    "\\hat{y}_i=-1 \\text{ if }sign(\\mathbf{w}^T\\mathbf{x}_i)<0\\\\\n",
    "\\hat{y}_i=1\\text{ if otherwise}\n",
    "\\end{cases}\n",
    "$$\n",
    "\n",
    "This is a way to keep the linear discriminant function but force nonlinear transformation to map onto the actual outcome.  The problem with this approach is that although your prediction is precisely the class label, there is no good way to solve this problem.  Methods such as gradient descent do not work because of the discreteness of the transformation.\n",
    "\n",
    "We can solve it using a gradient descent type of approach with a gradient approximated as\n",
    "$$(\\hat{y}_i-y_i)\\mathbf{x}_i$$\n",
    "Here is a simple implementation using R flavored programming.  Notice that the data loop is avoided to speed up the computation."
   ]
  },
  {
   "cell_type": "code",
   "execution_count": 38,
   "id": "9c08a10d",
   "metadata": {
    "kernel": "Python3",
    "tags": [
     "report_cell"
    ]
   },
   "outputs": [],
   "source": [
    "def perceptron(labels, features, threshold=1e-8):\n",
    "    datax = np.c_[np.ones(len(features)), features]\n",
    "    weights = np.random.uniform(size=datax.shape[1])\n",
    "    n = datax.shape[0]\n",
    "    weights_prev = np.zeros(datax.shape[1])\n",
    "    while np.sum((weights_prev - weights) ** 2) > threshold:\n",
    "        weights_prev = weights.copy()\n",
    "        activation = labels * np.sign(np.dot(datax, weights))\n",
    "        update = np.dot(datax.T, labels * np.where(activation < 0, 1, 0))\n",
    "        weights += update\n",
    "\n",
    "    return weights"
   ]
  },
  {
   "cell_type": "markdown",
   "id": "674b0335",
   "metadata": {},
   "source": [
    "- We can draw the fitted line in the figure as"
   ]
  },
  {
   "cell_type": "code",
   "execution_count": 39,
   "id": "5155ffd1",
   "metadata": {
    "Rmd_chunk_options": "echo=FALSE,out.width=\"60%\",fig.height=5, fig.width=5",
    "jupyter": {
     "output_hidden": false,
     "source_hidden": true
    },
    "kernel": "Python3",
    "tags": [
     "report_output"
    ]
   },
   "outputs": [],
   "source": [
    "def abline(ax, b, m, *args, **kwargs):\n",
    "    \"Add a line with slope m and intercept b to ax\"\n",
    "    xlim = ax.get_xlim()\n",
    "    ylim = [m * xlim[0] + b, m * xlim[1] + b]\n",
    "    ax.plot(xlim, ylim, *args, **kwargs)\n",
    "\n",
    "np.random.seed(12345)\n",
    "wp = perceptron(y,x)\n",
    "\n",
    "# Plot\n",
    "fig, ax = plt.subplots()\n",
    "ax.scatter(x[:, 0], x[:, 1], c=np.where(y == 1, 'blue', 'red'), alpha=1)\n",
    "ax.set_xlabel(iris.feature_names[2])\n",
    "ax.set_ylabel(iris.feature_names[3])\n",
    "ax.set_title(\"iris setosa vs versicolor\")\n",
    "ax.set_xlim(-2, 2)\n",
    "ax.set_ylim(-2, 2)\n",
    "\n",
    "abline(ax,\n",
    "       0,\n",
    "       wp[2]/wp[1],\n",
    "       'r--',\n",
    "       linewidth=1)\n",
    "\n",
    "# # Plot regression line\n",
    "# x_values = np.linspace(min(x[:, 0]), max(x[:, 0]), 100)\n",
    "# y_values = wp[1] * x_values + wp[0]\n",
    "# plt.plot(x_values, y_values, color='green')\n",
    "\n",
    "plt.show()"
   ]
  },
  {
   "cell_type": "markdown",
   "id": "9af5f0ba",
   "metadata": {},
   "source": [
    "This line represents the linear discriminant function\n",
    "\\begin{eqnarray}\n",
    "g(x)&=&w_0 + w_1 \\mbox{Petal.Length} + w_2 \\mbox{Petal.Width}\\\\\n",
    "&=&\\hat{\\beta}_0 + \\hat{\\beta}_1\\mbox{Petal.Length} + \\hat{\\beta}_2 \\mbox{Petal.Width}\n",
    "\\end{eqnarray}\n",
    "\n",
    "Which looks a little odd since we are looking at the fitted hyperplane from above.  In 3D you might see it better."
   ]
  },
  {
   "cell_type": "code",
   "execution_count": 40,
   "id": "86350c58",
   "metadata": {
    "Rmd_chunk_options": "out.width=\"60%\",fig.height=6, fig.width=5",
    "kernel": "Python3",
    "tags": [
     "report_cell"
    ]
   },
   "outputs": [],
   "source": [
    "from mpl_toolkits.mplot3d import Axes3D\n",
    "from matplotlib import cm\n",
    "\n",
    "# Create a meshgrid for the plane\n",
    "x_vals, y_vals = np.meshgrid(np.linspace(min(x[:, 0]), max(x[:, 0]), 10),\n",
    "                              np.linspace(min(x[:, 1]), max(x[:, 1]), 10))\n",
    "z_vals = wp[1] * x_vals + wp[2] * y_vals + wp[0]\n",
    "\n",
    "# Create 3D scatter plot\n",
    "fig = plt.figure()\n",
    "ax = fig.add_subplot(111, projection='3d')\n",
    "\n",
    "# Plot scatter points\n",
    "ax.scatter(x[:, 0], x[:, 1], y, c=np.where(y == 1, 'blue', 'red'), marker='o')\n",
    "\n",
    "import matplotlib.colors as colors\n",
    "# Plot plane\n",
    "\n",
    "#ax.plot_surface(x_vals, y_vals, z_vals, alpha=0.7, facecolors=cm.bwr(z_vals), )#color='blue'\n",
    "my_cmap = plt.get_cmap('bwr_r')\n",
    "\n",
    "ax.plot_surface(x_vals, y_vals, z_vals, alpha=0.7, cmap = my_cmap)#color='blue'\n",
    "\n",
    "\n",
    "# Set labels and title\n",
    "ax.set_xlabel(iris.feature_names[2])\n",
    "ax.set_ylabel(iris.feature_names[3])\n",
    "ax.set_zlabel('Target')\n",
    "ax.set_title('3D Scatterplot with Plane')\n",
    "ax.set_xlim(-2, 2)\n",
    "ax.set_ylim(-2, 2)\n",
    "plt.show()"
   ]
  },
  {
   "cell_type": "markdown",
   "id": "e3109da2",
   "metadata": {},
   "source": [
    "The plane is high where the y values are high and low where the y values are low.  Since all we care about is whether this function is above or below zero, we can find the line that this plane intersects a plane at $y=0$.  A separating hyperplane is defined by $g(x)=0$, so in terms of Petal Length\n",
    "$$\\mbox{Petal.Width}= - \\frac{w_0}{w_2} - \\frac{w_1}{w_2} \\mbox{Petal.Length}$$\n",
    "If we draw the line of intersection, we see that this separates the classes well."
   ]
  },
  {
   "cell_type": "code",
   "execution_count": 41,
   "id": "24905110",
   "metadata": {
    "Rmd_chunk_options": "echo=FALSE,out.width=\"60%\",fig.height=5, fig.width=5",
    "jupyter": {
     "output_hidden": false,
     "source_hidden": true
    },
    "kernel": "Python3",
    "tags": [
     "report_output"
    ]
   },
   "outputs": [],
   "source": [
    "import statsmodels.api as sm\n",
    "# Plot\n",
    "fig, ax = plt.subplots()\n",
    "ax.scatter(x[:, 0], x[:, 1], c=np.where(y == 1, 'blue', 'red'), alpha=1)\n",
    "ax.set_xlabel(iris.feature_names[2])\n",
    "ax.set_ylabel(iris.feature_names[3])\n",
    "ax.set_title(\"iris setosa vs versicolor\")\n",
    "\n",
    "# Add constant column for the intercept\n",
    "x_with_intercept = sm.add_constant(x)\n",
    "\n",
    "# # Fit linear regression using statsmodels\n",
    "# model = sm.OLS(y, x_with_intercept)\n",
    "# fit0 = model.fit()\n",
    "#\n",
    "# intercept = fit0.params[0]\n",
    "# coefficients = fit0.params[1:]\n",
    "\n",
    "\n",
    "abline(ax,-wp[0]/wp[2],-wp[1]/wp[2],\n",
    "       'g--',\n",
    "       linewidth=3)\n",
    "ax.set_xlim(-2, 2)\n",
    "ax.set_ylim(-2, 2)\n",
    "plt.show()"
   ]
  },
  {
   "cell_type": "markdown",
   "id": "b5adc300",
   "metadata": {},
   "source": [
    "The prediction is made at"
   ]
  },
  {
   "cell_type": "code",
   "execution_count": 42,
   "id": "7592a606",
   "metadata": {
    "Rmd_chunk_options": "echo=FALSE,out.width=\"60%\",fig.height=5, fig.width=5",
    "jupyter": {
     "output_hidden": false,
     "source_hidden": true
    },
    "kernel": "Python3",
    "tags": [
     "report_output"
    ]
   },
   "outputs": [],
   "source": [
    "# Calculate classification\n",
    "x1 = np.arange(-1.5, 1.55, 0.05)\n",
    "x2 = np.arange(-1.5, 1.55, 0.05)\n",
    "x1, x2 = np.meshgrid(x1, x2)\n",
    "xgrid = pd.DataFrame({'Petal.Length': x1.flatten(), 'Petal.Width': x2.flatten()})\n",
    "\n",
    "xgrid_with_bias = np.c_[np.ones(xgrid.shape[0]), xgrid.values]  # Add bias term\n",
    "ccc = np.where(np.dot(xgrid_with_bias, wp) > 0, 1, 0)\n",
    "\n",
    "# Plot grid points\n",
    "fig, ax = plt.subplots()\n",
    "ax.scatter(xgrid['Petal.Length'], xgrid['Petal.Width'], color=np.array(['blue' if c == 1 else 'red' for c in ccc]), alpha=0.1, marker='o')\n",
    "ax.set_xlabel('Petal.Length')\n",
    "ax.set_ylabel('Petal.Width')\n",
    "ax.set_title('iris setosa vs versicolor')\n",
    "\n",
    "# Plot decision boundary line\n",
    "#plt.plot(xgrid[:, 0], (-wp[0] - wp[1] * xgrid[:, 0]) / wp[2], color='green')\n",
    "abline(ax,-wp[0]/wp[2],-wp[1]/wp[2],\n",
    "       'g--',\n",
    "       linewidth=1)\n",
    "# Plot data points\n",
    "ax.scatter(x[:, 0], x[:, 1], color=np.where(y == 1, 'blue', 'red'), alpha=1)\n",
    "ax.set_xlim(-2, 2)\n",
    "ax.set_ylim(-2, 2)\n",
    "plt.show();"
   ]
  },
  {
   "cell_type": "markdown",
   "id": "6d06d472",
   "metadata": {},
   "source": [
    "However, you might also notice some arbitrariness in this result.  The line is closer to the blue.  If you rerun the algorithm, you will see that the result varies."
   ]
  },
  {
   "cell_type": "code",
   "execution_count": 43,
   "id": "c8b2dfe5",
   "metadata": {
    "Rmd_chunk_options": "echo=FALSE,out.width=\"60%\",fig.height=5, fig.width=5",
    "jupyter": {
     "output_hidden": false,
     "source_hidden": true
    },
    "kernel": "Python3",
    "tags": [
     "report_output"
    ]
   },
   "outputs": [],
   "source": [
    "# Calculate classification\n",
    "x1 = np.arange(-1.5, 1.55, 0.05)\n",
    "x2 = np.arange(-1.5, 1.55, 0.05)\n",
    "x1, x2 = np.meshgrid(x1, x2)\n",
    "xgrid = pd.DataFrame({'Petal.Length': x1.flatten(), 'Petal.Width': x2.flatten()})\n",
    "\n",
    "xgrid_with_bias = np.c_[np.ones(xgrid.shape[0]), xgrid.values]  # Add bias term\n",
    "ccc = np.where(np.dot(xgrid_with_bias, wp) > 0, 1, 0)\n",
    "\n",
    "# plot(xgrid[,1],xgrid[,2],col=rgb(ccc,0,abs(1-ccc),alpha=0.1),pch=20,\n",
    "#      xlab=\"Petal.Length\", ylab=\"Petal.Width\", main= \"iris setosa vs versicolor\")\n",
    "# abline(-wp[1]/wp[3],-wp[2]/wp[3])\n",
    "# points(x[,1],x[,2],col=rgb(1*(y==1),0,abs(1-1*(y==1)),alpha=1))\n",
    "\n",
    "# Plot grid points\n",
    "fig, ax = plt.subplots()\n",
    "ax.scatter(xgrid['Petal.Length'], xgrid['Petal.Width'], color=np.array(['blue' if c == 1 else 'red' for c in ccc]), alpha=0.1, marker='o')\n",
    "ax.set_xlabel('Petal.Length')\n",
    "ax.set_ylabel('Petal.Width')\n",
    "ax.set_title('iris setosa vs versicolor')\n",
    "ax.set_xlim(-2, 2)\n",
    "ax.set_ylim(-2, 2)\n",
    "# Plot decision boundary line\n",
    "#plt.plot(xgrid[:, 0], (-wp[0] - wp[1] * xgrid[:, 0]) / wp[2], color='green')\n",
    "for i in range(0, 5):\n",
    "  wpr=perceptron(y,x,1e-16)\n",
    "  abline(ax,-wpr[0]/wpr[2],-wpr[1]/wpr[2],\n",
    "       'g:',\n",
    "       linewidth=1)\n",
    "\n",
    "# Plot data points\n",
    "ax.scatter(x[:, 0], x[:, 1], color=np.where(y == 1, 'blue', 'red'), alpha=1)\n",
    "abline(ax,-wp[0]/wp[2],-wp[1]/wp[2],\n",
    "       'g--',\n",
    "       linewidth=1)\n",
    "plt.show()\n",
    "#\n",
    "#\n",
    "# x1 <- seq(-1.5,1.5,by=0.05)\n",
    "# x2 <- seq(-1.5,1.5,by=0.05)\n",
    "# xgrid <- expand.grid(Petal.Length =x1, Petal.Width=x2)\n",
    "# ccc<- 1*((as.matrix(cbind(1,xgrid))%*%wp )>0)\n",
    "#\n",
    "# plot(xgrid[,1],xgrid[,2],col=rgb(ccc,0,abs(1-ccc),alpha=0.1),pch=20,\n",
    "#      xlab=\"Petal.Length\", ylab=\"Petal.Width\", main= \"iris setosa vs versicolor\")\n",
    "# abline(-wp[1]/wp[3],-wp[2]/wp[3])\n",
    "# set.seed(123)\n",
    "# for( i in 1:5 ){\n",
    "# wpr=Perceptron(y,x,1e-16)\n",
    "# abline(-wpr[1]/wpr[3],-wpr[2]/wpr[3],lty=3)\n",
    "# }\n",
    "#\n",
    "# points(x[,1],x[,2],col=rgb(1*(y==1),0,abs(1-1*(y==1)),alpha=1))"
   ]
  },
  {
   "cell_type": "markdown",
   "id": "26762f98",
   "metadata": {},
   "source": [
    "This tells us the limit of such arbitrary computation.  Even though the data-generating model might be appropriate for the problem, the result is without guarantee if we use an approximate algorithm."
   ]
  },
  {
   "cell_type": "markdown",
   "id": "b7903a91",
   "metadata": {},
   "source": [
    "#### Regression for classification.\n",
    "\n",
    "This makes you wonder, can we use linear regression?  Rather than developing nonlinear mapping and struggling with computation, use MSE as an approximate loss and fit a hyperplane to the data?  We can.  Although the prediction will not resemble the actual values, we can still fit an optimal hyperplane regarding the squared error loss.\n",
    "$$y=\\beta_0 + \\beta_1\\mbox{Petal.Length} + \\beta_2 \\mbox{Petal.Width}$$\n",
    "We can draw the fitted linear discriminant function\n",
    "\\begin{eqnarray}\n",
    "g(x)&=&w_0 + w_1 \\mbox{Petal.Length} + w_2 \\mbox{Petal.Width}\\\\\n",
    "&=&\\hat{\\beta}_0 + \\hat{\\beta}_1\\mbox{Petal.Length} + \\hat{\\beta}_2 \\mbox{Petal.Width}\n",
    "\\end{eqnarray}"
   ]
  },
  {
   "cell_type": "code",
   "execution_count": 44,
   "id": "94df24cc",
   "metadata": {
    "Rmd_chunk_options": "echo=FALSE,out.width=\"60%\",fig.height=5, fig.width=5",
    "jupyter": {
     "output_hidden": false,
     "source_hidden": true
    },
    "kernel": "Python3",
    "tags": [
     "report_output"
    ]
   },
   "outputs": [],
   "source": [
    "fig, ax = plt.subplots()\n",
    "ax.scatter(x[:, 0], x[:, 1], c=np.where(y == 1, 'blue', 'red'), alpha=1)\n",
    "ax.set_xlabel(iris.feature_names[2])\n",
    "ax.set_ylabel(iris.feature_names[3])\n",
    "ax.set_title(\"iris setosa vs versicolor\")\n",
    "ax.set_xlim(-2, 2)\n",
    "ax.set_ylim(-2, 2)\n",
    "# Fit linear regression\n",
    "fit0 = LinearRegression().fit(x, y)\n",
    "intercept = fit0.intercept_\n",
    "slopes = fit0.coef_\n",
    "abline(ax,0,-slopes[0]/slopes[1],\n",
    "       'g--',\n",
    "       linewidth=1)\n",
    "plt.show()"
   ]
  },
  {
   "cell_type": "markdown",
   "id": "2025ba2b",
   "metadata": {},
   "source": [
    "Again it looks weird.  It's important to note that this is not the regression line $\\hat{y}$ since we are showing the predictors.   You might notice all the setosa (blue) are below the line and all the versicolor (red) are above the line.\n",
    "\n",
    "Again in 3D you might see it better."
   ]
  },
  {
   "cell_type": "code",
   "execution_count": 45,
   "id": "3ffde77b",
   "metadata": {
    "Rmd_chunk_options": "echo=FALSE",
    "jupyter": {
     "output_hidden": false,
     "source_hidden": true
    },
    "kernel": "Python3",
    "tags": [
     "report_output"
    ]
   },
   "outputs": [],
   "source": [
    "# fit0<-lm(y~Petal.Length +Petal.Width, data=data.frame(x,y) )\n",
    "# s3d <-scatterplot3d(x[,1],x[,2],y, pch=16, highlight.3d=FALSE,\n",
    "#                     color=rgb(1*(y==1),0,abs(1-1*(y==1)),alpha=1),\n",
    "#                     xlab=\"Petal.Length\",ylab=\"Petal.Width\",\n",
    "#   type=\"p\", main=\"3D Scatterplot\",angle=65)\n",
    "# s3d$plane3d(fit0, col = rgb(0,0,1,0.7),lty = \"dotted\")\n",
    "\n",
    "# Create 3D scatter plot\n",
    "fig = plt.figure()\n",
    "ax = fig.add_subplot(111, projection='3d')\n",
    "\n",
    "# Scatter plot\n",
    "ax.scatter(x[:, 0], x[:, 1], y, c=np.where(y == 1, 'blue', 'red'), marker='o')\n",
    "\n",
    "# Fit plane\n",
    "xx, yy = np.meshgrid(np.linspace(min(x[:, 0]), max(x[:, 0]), 10),\n",
    "                     np.linspace(min(x[:, 1]), max(x[:, 1]), 10))\n",
    "zz = fit0.intercept_ + fit0.coef_[0] * xx + fit0.coef_[1] * yy\n",
    "ax.plot_surface(xx, yy, zz, alpha=0.7, color='blue')\n",
    "\n",
    "# Set labels and title\n",
    "ax.set_xlabel('Petal.Length')\n",
    "ax.set_ylabel('Petal.Width')\n",
    "ax.set_zlabel('Target')\n",
    "ax.set_title('3D Scatterplot with Plane')\n",
    "ax.set_xlim(-2, 2)\n",
    "ax.set_ylim(-2, 2)\n",
    "plt.show()"
   ]
  },
  {
   "cell_type": "code",
   "execution_count": 46,
   "id": "2da20650",
   "metadata": {
    "Rmd_chunk_options": "warning=FALSE,echo=FALSE",
    "jupyter": {
     "output_hidden": false,
     "source_hidden": true
    },
    "kernel": "Python3",
    "tags": [
     "report_output"
    ]
   },
   "outputs": [],
   "source": [
    "# fig <- plot_ly(data=data.frame(x,y), x = x[,1], y = ~x[,2], z=y, color = ~ factor(y),colors=rgb(1*(y==1),0,abs(1-1*(y==1)),alpha=1), type = 'scatter3d',mode = \"markers\")%>%\n",
    "#   add_markers(size = 8) %>%\n",
    "#   layout(\n",
    "#     xaxis = list(\n",
    "#       zerolinecolor = \"#ffff\",\n",
    "#       zerolinewidth = 2,\n",
    "#       gridcolor='#ffff'),\n",
    "#     yaxis = list(\n",
    "#       zerolinecolor = \"#ffff\",\n",
    "#       zerolinewidth = 2,\n",
    "#       gridcolor='#ffff'),\n",
    "#     scene =list(bgcolor = \"#e5ecf6\"))\n",
    "#\n",
    "# #Graph Resolution (more important for more complex shapes)\n",
    "# graph_reso <- 0.05\n",
    "#\n",
    "# #Setup Axis\n",
    "# axis_x <- seq(min(x[,1]), max(x[,1]), by = graph_reso)\n",
    "# axis_y <- seq(min(x[,2]), max(x[,2]), by = graph_reso)\n",
    "#\n",
    "# #Sample points\n",
    "# petal_lm_surface <- expand.grid(Petal.Length = axis_x,Petal.Width = axis_y,KEEP.OUT.ATTRS = F)\n",
    "# petal_lm_surface$y <- predict.lm(fit0, newdata = petal_lm_surface)\n",
    "# petal_lm_surface <- acast(petal_lm_surface, Petal.Length ~ Petal.Width, value.var = \"Petal.Length\") #y ~\n",
    "#\n",
    "# iris_plot <- add_trace(p = fig,color = I(\"red\"),\n",
    "#                        z = petal_lm_surface,\n",
    "#                        x = axis_x,\n",
    "#                        y = axis_y,\n",
    "#                        type = \"surface\")\n",
    "#\n",
    "# iris_plot\n",
    "\n",
    "# import plotly.graph_objects as go\n",
    "#\n",
    "#\n",
    "# # Create scatter plot\n",
    "# fig = go.Figure(data=go.Scatter3d(\n",
    "#     x=x[:, 0],\n",
    "#     y=x[:, 1],\n",
    "#     z=y,\n",
    "#     mode='markers',\n",
    "#     marker=dict(\n",
    "#         size=8,\n",
    "#         color=np.where(y == 1, 'blue', 'red'),\n",
    "#         opacity=1\n",
    "#     )\n",
    "# ))\n",
    "#\n",
    "# # Define axis range\n",
    "# axis_x = np.arange(np.min(x[:, 0]), np.max(x[:, 0]), 0.05)\n",
    "# axis_y = np.arange(np.min(x[:, 1]), np.max(x[:, 1]), 0.05)\n",
    "#\n",
    "# # Generate surface data\n",
    "# petal_lm_surface = pd.DataFrame(index=axis_x, columns=axis_y)\n",
    "# for i in axis_x:\n",
    "#     for j in axis_y:\n",
    "#         petal_lm_surface.loc[i, j] = fit0.predict(np.array([[i, j]]))\n",
    "#\n",
    "# # Add surface plot\n",
    "# fig.add_trace(go.Surface(\n",
    "#     x=axis_x,\n",
    "#     y=axis_y,\n",
    "#     z=petal_lm_surface.values,\n",
    "#     colorscale='Reds',\n",
    "#     showscale=False\n",
    "# ))\n",
    "#\n",
    "# # Update layout\n",
    "# fig.update_layout(\n",
    "#     scene=dict(\n",
    "#         xaxis=dict(zerolinecolor=\"lavender\", zerolinewidth=2, gridcolor='lavender'),\n",
    "#         yaxis=dict(zerolinecolor=\"lavender\", zerolinewidth=2, gridcolor='lavender'),\n",
    "#         bgcolor=\"white\"\n",
    "#     )\n",
    "# )\n",
    "#\n",
    "# fig.show()"
   ]
  },
  {
   "cell_type": "markdown",
   "id": "f8260fdf",
   "metadata": {},
   "source": [
    "Separating hyper plane is defined by $g(x)=0$ so in terms of Petal Length\n",
    "$$\\mbox{Petal.Width}= - \\frac{w_0}{w_2} - \\frac{w_1}{w_2} \\mbox{Petal.Length}$$"
   ]
  },
  {
   "cell_type": "code",
   "execution_count": 47,
   "id": "f77d54ad",
   "metadata": {
    "Rmd_chunk_options": "echo=FALSE,out.width=\"60%\",fig.height=5, fig.width=5",
    "jupyter": {
     "output_hidden": false,
     "source_hidden": true
    },
    "kernel": "Python3",
    "tags": [
     "report_output"
    ]
   },
   "outputs": [],
   "source": [
    "# plot(x[,1],x[,2],xlab=names(iris)[3],ylab=names(iris)[4],\n",
    "#      col=rgb(1*(y==1),0,abs(1-1*(y==1)),alpha=1),\n",
    "#      main= \"iris setosa vs versicolor\")\n",
    "# cf0=coef(fit0)\n",
    "# abline(-cf0[1]/cf0[3],-cf0[2]/cf0[3])\n",
    "\n",
    "\n",
    "fig, ax = plt.subplots()\n",
    "ax.scatter(x[:, 0], x[:, 1], c=np.where(y == 1, 'blue', 'red'), alpha=1)\n",
    "ax.set_xlabel(iris.feature_names[2])\n",
    "ax.set_ylabel(iris.feature_names[3])\n",
    "ax.set_title(\"iris setosa vs versicolor\")\n",
    "ax.set_xlim(-2, 2)\n",
    "ax.set_ylim(-2, 2)\n",
    "# Fit linear regression\n",
    "fit0 = LinearRegression().fit(x, y)\n",
    "intercept = fit0.intercept_\n",
    "slopes = fit0.coef_\n",
    "abline(ax,-intercept/slopes[1],-slopes[0]/slopes[1],\n",
    "       'g--',\n",
    "       linewidth=1)\n",
    "fig.show()"
   ]
  },
  {
   "cell_type": "markdown",
   "id": "06e2ad50",
   "metadata": {},
   "source": [
    "Which is an orthogonal line to $g(x)$.\n",
    "\n",
    "Prediction is made at"
   ]
  },
  {
   "cell_type": "code",
   "execution_count": 48,
   "id": "d614a986",
   "metadata": {
    "Rmd_chunk_options": "echo=FALSE,out.width=\"60%\",fig.height=5, fig.width=5",
    "jupyter": {
     "output_hidden": false,
     "source_hidden": true
    },
    "kernel": "Python3",
    "tags": [
     "report_output"
    ]
   },
   "outputs": [],
   "source": [
    "# x1 <- seq(-1.5,1.5,by=0.05)\n",
    "# x2 <- seq(-1.5,1.5,by=0.05)\n",
    "# xgrid <- expand.grid(Petal.Length =x1, Petal.Width=x2)\n",
    "# ccc<-1*(predict(fit0,newdata=(xgrid))>0)\n",
    "# cf0=coef(fit0)\n",
    "# plot(xgrid[,1],xgrid[,2],col=rgb(ccc,0,abs(1-ccc),alpha=0.1),pch=20,\n",
    "#      xlab=\"Petal.Length\", ylab=\"Petal.Width\", main= \"iris setosa vs versicolor\")\n",
    "# abline(-cf0[1]/cf0[3],-cf0[2]/cf0[3])\n",
    "# points(x[,1],x[,2],col=rgb(1*(y==1),0,abs(1-1*(y==1)),alpha=1))\n",
    "coef = fit0.coef_\n",
    "intercept = fit0.intercept_\n",
    "\n",
    "# Create a grid of points for visualization\n",
    "x1 = np.arange(-1.5, 1.5, 0.05)\n",
    "x2 = np.arange(-1.5, 1.5, 0.05)\n",
    "#xgrid = np.array(list(product(x1, x2)))\n",
    "x1_grid, x2_grid = np.meshgrid(x1, x2)\n",
    "xgrid = pd.DataFrame({'Petal.Length': x1_grid.ravel(), 'Petal.Width': x2_grid.ravel()})\n",
    "# Predict the class labels for the grid points\n",
    "ccc = fit0.predict(xgrid)\n",
    "\n",
    "# Plot the decision boundary and data points\n",
    "#plt.figure(figsize=(10, 6))\n",
    "fig, ax = plt.subplots()\n",
    "ax.scatter(x[:, 0], x[:, 1], c=np.where(y == 1, 'blue', 'red'), cmap=plt.cm.Paired, edgecolors='k')\n",
    "ax.scatter(xgrid.iloc[:, 0], xgrid.iloc[:, 1], c=np.where(ccc > 0, 'blue', 'red'), alpha=0.1)\n",
    "\n",
    "# Plot decision boundary\n",
    "\n",
    "# x2 = (-coef[0] / coef[1]) * x1 - (intercept / coef[1])\n",
    "# plt.plot(x1, x2, color='black', linestyle='--')\n",
    "\n",
    "abline(ax,-intercept / coef[1],\n",
    "  -coef[0]/coef[1],\n",
    "       'g--',\n",
    "       linewidth=1)\n",
    "\n",
    "ax.set_xlabel('Petal Length')\n",
    "ax.set_ylabel('Petal Width')\n",
    "ax.set_title('Iris Setosa vs Versicolor')\n",
    "ax.set_xlim(-2, 2)\n",
    "ax.set_ylim(-2, 2)\n",
    "plt.show()"
   ]
  },
  {
   "cell_type": "markdown",
   "id": "905ece58",
   "metadata": {},
   "source": [
    "Bootstraping to check the uncertainty"
   ]
  },
  {
   "cell_type": "code",
   "execution_count": 49,
   "id": "4e50c6fe",
   "metadata": {
    "Rmd_chunk_options": "echo=FALSE,out.width=\"60%\",fig.height=5, fig.width=5",
    "jupyter": {
     "output_hidden": false,
     "source_hidden": true
    },
    "kernel": "Python3",
    "tags": [
     "report_output"
    ]
   },
   "outputs": [],
   "source": [
    "# x1 <- seq(-1.5,1.5,by=0.05)\n",
    "# x2 <- seq(-1.5,1.5,by=0.05)\n",
    "# xgrid <- expand.grid(Petal.Length =x1, Petal.Width=x2)\n",
    "# ccc<-1*(predict(fit0,newdata=(xgrid))>0)\n",
    "# #fit0<-lm(y~Petal.Length +Petal.Width, data=data.frame(x,y) )\n",
    "# fit0.boot <- car::Boot(fit0, R=20)\n",
    "# cf0=coef(fit0)\n",
    "# plot(xgrid[,1],xgrid[,2],col=rgb(ccc,0,abs(1-ccc),alpha=0.1),pch=20,\n",
    "#      xlab=\"Petal.Length\", ylab=\"Petal.Width\", main= \"iris setosa vs versicolor\")\n",
    "# points(x[,1],x[,2],col=rgb(1*(y==1),0,abs(1-1*(y==1)),alpha=1))\n",
    "#\n",
    "# for( i in 1:20){\n",
    "#   cf0b<-fit0.boot$t[i,]\n",
    "#   abline(-cf0b[1]/cf0b[3],-cf0b[2]/cf0b[3],lty=2,col=rgb(0,0,0,alpha=0.3))\n",
    "# }\n",
    "# abline(-cf0[1]/cf0[3],-cf0[2]/cf0[3])\n",
    "\n",
    "\n",
    "#plt.figure(figsize=(10, 6))\n",
    "fig, ax = plt.subplots()\n",
    "ax.scatter(x[:, 0], x[:, 1], c=np.where(y == 1, 'blue', 'red'), cmap=plt.cm.Paired, edgecolors='k')\n",
    "ax.scatter(xgrid.iloc[:, 0], xgrid.iloc[:, 1], c=np.where(ccc > 0, 'blue', 'red'), alpha=0.1)\n",
    "\n",
    "# Plot decision boundary\n",
    "\n",
    "# x2 = (-coef[0] / coef[1]) * x1 - (intercept / coef[1])\n",
    "# plt.plot(x1, x2, color='black', linestyle='--')\n",
    "\n",
    "abline(ax,-intercept / coef[1],\n",
    "  -coef[0]/coef[1],\n",
    "       'g--',\n",
    "       linewidth=1)\n",
    "\n",
    "from sklearn.utils import resample\n",
    "# Plot bootstrap resampled decision boundaries\n",
    "for _ in range(20):\n",
    "    # Resample data\n",
    "    x_resampled, y_resampled = resample(x, y)\n",
    "    # Fit model\n",
    "    #model.fit(x_resampled, y_resampled)\n",
    "    fit0b = LinearRegression().fit(x_resampled, y_resampled)\n",
    "    intercept_b = fit0b.intercept_\n",
    "    slopes_b = fit0b.coef_\n",
    "    # Plot decision boundary\n",
    "    # x2_resampled = (-slopes_b[0] / slopes_b[1]) * x1 - (intercept_b / slopes_b[1])\n",
    "    # plt.plot(x1, x2_resampled, color='black', linestyle='--', alpha=0.3)\n",
    "    abline(ax,-intercept_b / slopes_b[1],\n",
    "        -slopes_b[0] / slopes_b[1],\n",
    "       'g--',\n",
    "       linewidth=1)\n",
    "\n",
    "# # Plot original decision boundary\n",
    "# coef = model.coef_[0]\n",
    "# intercept = model.intercept_\n",
    "# x2 = (-coef[0] / coef[1]) * x1 - (intercept / coef[1])\n",
    "# plt.plot(x1, x2, color='black')\n",
    "#\n",
    "# plt.xlabel('Petal Length')\n",
    "# plt.ylabel('Petal Width')\n",
    "# plt.title('Iris Setosa vs Versicolor')\n",
    "ax.set_xlabel('Petal Length')\n",
    "ax.set_ylabel('Petal Width')\n",
    "ax.set_title('Iris Setosa vs Versicolor')\n",
    "ax.set_xlim(-2, 2)\n",
    "ax.set_ylim(-2, 2)\n",
    "plt.show()"
   ]
  },
  {
   "cell_type": "markdown",
   "id": "623e3262",
   "metadata": {},
   "source": [
    "#### Ridge regression\n",
    "\n",
    "If we can fit regression, we can do the same with ridge regression.\n",
    "In ridge regression one minimizes MSE with penalty $\\lambda/2 ||w||^2$, which gives us the solution\n",
    "\n",
    "$$\\hat{\\mathbf{w}}_{\\lambda}=(\\mathbf{X}^T\\mathbf{X}+\\lambda\\mathbf{I})^{-1}\\mathbf{X}^T \\mathbf{y}$$\n",
    "But what does that regularization do to the decision boundary and the corresponding margin?"
   ]
  },
  {
   "cell_type": "code",
   "execution_count": 50,
   "id": "c705b97a",
   "metadata": {
    "Rmd_chunk_options": "echo=FALSE,out.width=\"60%\",fig.height=5, fig.width=5",
    "jupyter": {
     "output_hidden": false,
     "source_hidden": true
    },
    "kernel": "Python3",
    "tags": [
     "report_output"
    ]
   },
   "outputs": [],
   "source": [
    "from sklearn.linear_model import Ridge\n",
    "from sklearn.linear_model import RidgeCV\n",
    "ridgereg =RidgeCV(alphas=[1e-3, 1e-2, 1e-1, 1],fit_intercept=True,cv=5).fit(x, y)\n",
    "cfr=ridgereg.coef_\n",
    "cfr0=ridgereg.intercept_\n",
    "ccr=ridgereg.predict(xgrid)\n",
    "#\n",
    "#\n",
    "# ridgemodel = sm.OLS.fit_regularized(y, x_with_intercept)\n",
    "# ridge_fit0 = ridgemodel.fit()\n",
    "# cvglm<-cv.glmnet(x=x,y=y,alpha=0,family=c(\"gaussian\"),standardize=F)\n",
    "#\n",
    "# fit1<-glmnet(x=x,y=y,alpha=0,lambda=cvglm$lambda.min,family=c(\"gaussian\"),standardize=F)\n",
    "# cfr = coef(fit1)\n",
    "# Plot the decision boundary and data points\n",
    "#plt.figure(figsize=(10, 6))\n",
    "fig, ax = plt.subplots()\n",
    "ax.scatter(x[:, 0], x[:, 1], c=np.where(y == 1, 'blue', 'red'), cmap=plt.cm.Paired, edgecolors='k')\n",
    "ax.scatter(xgrid.iloc[:, 0], xgrid.iloc[:, 1], c=np.where(ccc > 0, 'blue', 'red'), alpha=0.1)\n",
    "# Plot decision boundary\n",
    "\n",
    "# x2 = (-coef[0] / coef[1]) * x1 - (intercept / coef[1])\n",
    "# plt.plot(x1, x2, color='black', linestyle='--')\n",
    "\n",
    "abline(ax,-intercept / coef[1],\n",
    "  -coef[0]/coef[1],\n",
    "       'g--',\n",
    "       linewidth=1)\n",
    "abline(ax,-cfr0 / cfr[1],\n",
    "  -cfr[0]/cfr[1],\n",
    "       'y--',\n",
    "       linewidth=1)\n",
    "ax.set_xlabel('Petal Length')\n",
    "ax.set_ylabel('Petal Width')\n",
    "ax.set_title('Iris Setosa vs Versicolor')\n",
    "ax.set_xlim(-2, 2)\n",
    "ax.set_ylim(-2, 2)\n",
    "plt.show()\n",
    "\n",
    "# x1 <- seq(-1.5,1.5,by=0.05)\n",
    "# x2 <- seq(-1.5,1.5,by=0.05)\n",
    "# ccc<-1*(predict(fit1,as.matrix(xgrid),s=50)>0)\n",
    "#\n",
    "# xgrid <- expand.grid(Petal.Length =x1, Petal.Width=x2)\n",
    "# plot(xgrid[,1],xgrid[,2],col=rgb(ccc,0,abs(1-ccc),alpha=0.1),pch=20,\n",
    "#      xlab=\"Petal.Length\", ylab=\"Petal.Width\", main= \"iris setosa vs versicolor\")\n",
    "# points(x[,1],x[,2],col=rgb(1*(y==1),0,abs(1-1*(y==1)),alpha=1))\n",
    "# abline(0,cfr[3]/cfr[2])\n",
    "# abline(-cfr[1]/cfr[3],-cfr[2]/cfr[3])\n",
    "# abline(-cf0[1]/cf0[3],-cf0[2]/cf0[3],lty=3)"
   ]
  },
  {
   "cell_type": "markdown",
   "id": "a905792e",
   "metadata": {},
   "source": [
    "Even though the LS works well in separating the two species, the ridge solution seems even better since the line has a larger margin.  The value of the hyperparameter is chosen to generalize better, which translates to a larger margin."
   ]
  },
  {
   "cell_type": "markdown",
   "id": "67140eec",
   "metadata": {},
   "source": [
    "#### Binomial likelihood\n",
    "\n",
    "We can refine the result by using a binomial likelihood more appropriate for the binary classification problem."
   ]
  },
  {
   "cell_type": "code",
   "execution_count": 51,
   "id": "071def43",
   "metadata": {
    "Rmd_chunk_options": "echo=FALSE,out.width=\"60%\",fig.height=5, fig.width=5",
    "jupyter": {
     "output_hidden": false,
     "source_hidden": true
    },
    "kernel": "Python3",
    "tags": [
     "report_output"
    ]
   },
   "outputs": [],
   "source": [
    "# cvglm<-cv.glmnet(x=x,y=y,alpha=0,family=c(\"binomial\"),standardize=F)\n",
    "#\n",
    "# fit1<-glmnet(x=x,y=y,alpha=0,lambda=cvglm$lambda.min,family=c(\"binomial\"),standardize=F)\n",
    "# cfbr = coef(fit1)\n",
    "#\n",
    "# x1 <- seq(-1.5,1.5,by=0.05)\n",
    "# x2 <- seq(-1.5,1.5,by=0.05)\n",
    "# ccc<-1*(predict(fit1,as.matrix(xgrid),s=50)>0)\n",
    "#\n",
    "# xgrid <- expand.grid(Petal.Length =x1, Petal.Width=x2)\n",
    "# plot(xgrid[,1],xgrid[,2],col=rgb(ccc,0,abs(1-ccc),alpha=0.1),pch=20,\n",
    "#      xlab=\"Petal.Length\", ylab=\"Petal.Width\", main= \"iris setosa vs versicolor\")\n",
    "# points(x[,1],x[,2],col=rgb(1*(y==1),0,abs(1-1*(y==1)),alpha=1))\n",
    "# abline(0,cfbr[3]/cfbr[2])\n",
    "# abline(-cfbr[1]/cfbr[3],-cfbr[2]/cfbr[3])\n",
    "# abline(-cfr[1]/cfr[3],-cfr[2]/cfr[3],lty=2)\n",
    "# abline(-cf0[1]/cf0[3],-cf0[2]/cf0[3],lty=3)\n",
    "\n",
    "from sklearn.linear_model import Ridge\n",
    "from sklearn.linear_model import LogisticRegressionCV\n",
    "\n",
    "logitridgereg =LogisticRegressionCV(fit_intercept=True,cv=5).fit(x, y)\n",
    "cfbr=logitridgereg.coef_[0]\n",
    "cfbr0=logitridgereg.intercept_\n",
    "ccbr=logitridgereg.predict(xgrid)\n",
    "#\n",
    "#\n",
    "# ridgemodel = sm.OLS.fit_regularized(y, x_with_intercept)\n",
    "# ridge_fit0 = ridgemodel.fit()\n",
    "# cvglm<-cv.glmnet(x=x,y=y,alpha=0,family=c(\"gaussian\"),standardize=F)\n",
    "#\n",
    "# fit1<-glmnet(x=x,y=y,alpha=0,lambda=cvglm$lambda.min,family=c(\"gaussian\"),standardize=F)\n",
    "# cfr = coef(fit1)\n",
    "# Plot the decision boundary and data points\n",
    "#plt.figure(figsize=(10, 6))\n",
    "fig, ax = plt.subplots()\n",
    "ax.scatter(x[:, 0], x[:, 1], c=np.where(y == 1, 'blue', 'red'), cmap=plt.cm.Paired, edgecolors='k')\n",
    "ax.scatter(xgrid.iloc[:, 0], xgrid.iloc[:, 1], c=np.where(ccc > 0, 'blue', 'red'), alpha=0.1)\n",
    "# Plot decision boundary\n",
    "\n",
    "# x2 = (-coef[0] / coef[1]) * x1 - (intercept / coef[1])\n",
    "# plt.plot(x1, x2, color='black', linestyle='--')\n",
    "\n",
    "abline(ax,-intercept / coef[1],\n",
    "  -coef[0]/coef[1],\n",
    "       'g--',\n",
    "       linewidth=1)\n",
    "abline(ax,-cfr0 / cfr[1],\n",
    "  -cfr[0]/cfr[1],\n",
    "       'y--',\n",
    "       linewidth=1)\n",
    "abline(ax,-cfbr0 / cfbr[1],\n",
    "  -cfbr[0]/cfbr[1],\n",
    "       'w--',\n",
    "       linewidth=1)\n",
    "ax.set_xlabel('Petal Length')\n",
    "ax.set_ylabel('Petal Width')\n",
    "ax.set_title('Iris Setosa vs Versicolor')\n",
    "ax.set_xlim(-2, 2)\n",
    "ax.set_ylim(-2, 2)\n",
    "plt.show()"
   ]
  },
  {
   "cell_type": "markdown",
   "id": "7cfd9b6f",
   "metadata": {},
   "source": [
    "To summarize, we can use these linear discriminant function based methods to do classification.  The margin size can be adjusted using regularization, and we could also use likelihood that better matches the problem."
   ]
  },
  {
   "cell_type": "markdown",
   "id": "e3805409",
   "metadata": {},
   "source": [
    "#### Maximum Margin Classifier\n",
    "\n",
    "The maximum margin classifier tries to get directly at obtaining the best margin.\n",
    "For a feature vector $\\underset{p\\times 1}{\\mathbf{x}}$ and a weight vector $\\underset{(p)\\times 1}{\\mathbf{w}}$ we want to find\n",
    "$$g(x)=w_0+\\mathbf{w}^T\\mathbf{x}$$\n",
    "For a set of $n$ data $(\\mathbf{x}_1,y_1),\\dots, (\\mathbf{x}_n,y_n)$ if we denote\n",
    "$$\\underset{n\\times p}{\\mathbf{X}}=[\\mathbf{x}_1,\\dots, \\mathbf{x}_n]^T\\mbox{ and } \\mathbf{y}=(y_1,\\dots,y_n)^T$$\n",
    "$\\mathbf{w}$ that maximizes the margin is\n",
    "$$\\mathbf{w}_{SVM}=\\arg_{\\mathbf{w}}\\max \\left\\{\\frac{1}{||\\mathbf{w}||}\\min  y_i(w_0+\\mathbf{w}^T\\mathbf{w})\\right\\}$$\n",
    "\n",
    "Solving this problem directly is difficult, but you can frame it as a constrained optimization problem.\n",
    "$$\\mathbf{w}_{SVM}=\\arg_{\\mathbf{w}}\\min \\left\\{\\frac{1}{2}||\\mathbf{w}||^2\\right\\}$$\n",
    ", s.t. $y_i(w_0+\\mathbf{w}^T\\mathbf{w})\\geq1 \\forall i=1,\\dots, n$\n",
    "\n",
    "We can solve the problem using the Lagrange multiplier.\n",
    "If we let $\\mathbf{a}=(a_1,a_2,\\dots,a_n)^T$ where $a_i\\geq 0$\n",
    "$$L(\\mathbf{w},\\mathbf{a})=\\frac{1}{2}||\\mathbf{w}||^2+\\sum_{i=1}^n a_i(1-y_i(w_0+\\mathbf{w}^T\\mathbf{x}_i))$$\n",
    "$$\\mathbf{w}_{SVM}=\\arg_{\\mathbf{w}}\\min \\max L(\\mathbf{w},\\mathbf{a})$$\n",
    "\n",
    "It is also worth noting that the problem has a dual form\n",
    "\n",
    "$$\\mathbf{a}_{SVM}=\\arg_{\\mathbf{a}} \\max\\left\\{ \\sum^n_{i=1} a_i- \\frac{1}{2} \\sum^n_{i=1} \\sum^n_{j=1} a_i a_j y_i y_j \\mathbf{x}_i^T\\mathbf{x}_j\\right\\}$$\n",
    "\n",
    "s.t,. $\\sum^n_{j=1}a_iy_i$ and $a_i\\geq0,\\forall i=1,\\dots, n$, which gives the same solution.\n",
    "This formulation is nice because we only have $\\mathbf{a}$\n",
    "\n",
    "$$\\mathbf{w}=\\sum^n_{i=1} a_iy_i \\mathbf{x}_i$$"
   ]
  },
  {
   "cell_type": "code",
   "execution_count": 52,
   "id": "913af4ba",
   "metadata": {
    "Rmd_chunk_options": "echo=FALSE,out.width=\"60%\",fig.height=5, fig.width=5",
    "jupyter": {
     "output_hidden": false,
     "source_hidden": true
    },
    "kernel": "Python3",
    "tags": [
     "report_output"
    ]
   },
   "outputs": [],
   "source": [
    "# y=2*(as.integer(iris[1:100,5])-1)-1\n",
    "# x=scale(as.matrix(iris[1:100,3:4]))\n",
    "# dt=data.frame(y,x)\n",
    "# svmfit=svm(y~.,data=dt,kernel=\"linear\",cost=1)\n",
    "#\n",
    "# x1 <- seq(-1.5,1.5,by=0.05)\n",
    "# x2 <- seq(-1.5,1.5,by=0.05)\n",
    "# xgrid <- expand.grid(Petal.Length =x1, Petal.Width=x2)\n",
    "# ccc<-1*(predict(svmfit,newdata=xgrid)>0)\n",
    "#\n",
    "# plot(xgrid[,1],xgrid[,2],col=rgb(ccc,0,abs(1-ccc),alpha=0.1),pch=20,\n",
    "#      xlab=\"Petal.Length\", ylab=\"Petal.Width\",main= \"iris versicolor vs virginica\")\n",
    "# points(x[,1],x[,2],col=rgb(1*(y==1),0,abs(1-1*(y==1)),alpha=1))\n",
    "# points(x[svmfit$index,1],x[svmfit$index,2],pch=3)\n",
    "# betac<- drop(t(svmfit$coefs)%*%x[svmfit$index,])\n",
    "# beta0 <- svmfit$rho\n",
    "# abline(beta0/betac[2],-betac[1]/betac[2])\n",
    "# abline((beta0-1)/betac[2],-betac[1]/betac[2],lty=2)\n",
    "# abline((beta0+1)/betac[2],-betac[1]/betac[2],lty=2)\n",
    "\n",
    "from sklearn.preprocessing import StandardScaler\n",
    "from sklearn.svm import SVC\n",
    "from ISLP.svm import plot as plot_svm\n",
    "\n",
    "# Load iris dataset\n",
    "iris = datasets.load_iris()\n",
    "x = iris.data[:100, 2:4]  # Only consider sepal length and width for the first 100 samples\n",
    "y = 2 * iris.target[:100] - 1  # Convert labels to -1 and 1\n",
    "\n",
    "# Standardize features\n",
    "scaler = StandardScaler()\n",
    "x_scaled = scaler.fit_transform(x)\n",
    "\n",
    "# Fit SVM model\n",
    "svmfit = SVC(kernel='linear', C=1)\n",
    "svmfit.fit(x_scaled, y)\n",
    "\n",
    "fig, ax = plt.subplots()\n",
    "plot_svm(x_scaled,\n",
    "y,\n",
    "svmfit ,\n",
    "ax=ax)\n",
    "plt.show()\n",
    "#\n",
    "# # Create a grid of points for visualization\n",
    "# x1 = np.arange(-1.5, 1.55, 0.05)\n",
    "# x2 = np.arange(-1.5, 1.55, 0.05)\n",
    "# x1_grid, x2_grid = np.meshgrid(x1, x2)\n",
    "# xgrid = pd.DataFrame({'Petal.Length': x1_grid.ravel(), 'Petal.Width': x2_grid.ravel()})\n",
    "#\n",
    "# # Predict using SVM model\n",
    "# ccc = svmfit.predict(xgrid)\n",
    "#\n",
    "# # Plot decision boundary and data points\n",
    "# plt.figure(figsize=(10, 6))\n",
    "# plt.scatter(xgrid.iloc[:, 0], xgrid.iloc[:, 1], c=np.where(ccc > 1, 'blue', 'red'), alpha=0.1)\n",
    "# plt.scatter(x[:, 0], x[:, 1], c=np.where(y == 1, 'blue', 'red'), edgecolors='k')\n",
    "#\n",
    "# # Plot support vectors\n",
    "# plt.scatter(x[svmfit.support_, 0], x[svmfit.support_, 1], marker='o', facecolors='none', edgecolors='black', s=100)\n",
    "#\n",
    "# # Plot decision boundary lines\n",
    "# coef = svmfit.coef_[0]\n",
    "# intercept = svmfit.intercept_[0]\n",
    "# x2_decision_boundary = (-intercept - coef[0] * x1_grid) / coef[1]\n",
    "# plt.plot(x1_grid[0], x2_decision_boundary, color='black')\n",
    "#\n",
    "# # Plot margin lines\n",
    "# margin = 1 / np.sqrt(np.sum(svmfit.coef_ ** 2))\n",
    "# plt.plot(x1_grid[0], x2_decision_boundary + margin, 'k--')\n",
    "# plt.plot(x1_grid[0], x2_decision_boundary - margin, 'k--')\n",
    "#\n",
    "# plt.xlabel('Petal Length')\n",
    "# plt.ylabel('Petal Width')\n",
    "# plt.title('Iris Versicolor vs Virginica')\n",
    "# plt.show()"
   ]
  },
  {
   "cell_type": "markdown",
   "id": "63537606",
   "metadata": {},
   "source": [
    "### Nonlinear case\n",
    "\n",
    "When considering the classification of versicolor vs virginica,\n",
    "linear separation does not seem to work well.   You can tell by looking at the figure since no line can separate blue and red."
   ]
  },
  {
   "cell_type": "code",
   "execution_count": 53,
   "id": "4c5d4d3b",
   "metadata": {
    "Rmd_chunk_options": "echo=FALSE,out.width=\"60%\",fig.height=5, fig.width=5",
    "jupyter": {
     "output_hidden": false,
     "source_hidden": true
    },
    "kernel": "Python3",
    "tags": [
     "report_output"
    ]
   },
   "outputs": [],
   "source": [
    "# y=2*(as.integer(iris[51:150,5])-2)-1\n",
    "# x=scale(as.matrix(iris[51:150,3:4]))\n",
    "# plot(x[,1],x[,2],xlab=names(iris)[3],ylab=names(iris)[4],\n",
    "#      col=rgb(1*(y==1),0,abs(1-1*(y==1)),alpha=1),\n",
    "#      main= \"iris versicolor vs virginica\")\n",
    "from sklearn.preprocessing import StandardScaler\n",
    "# Load iris dataset\n",
    "x = iris.data[50:150, 2:4]  # Consider samples 51 to 150 and features 3 and 4\n",
    "y = 2 * iris.target[50:150] - 3  # Convert labels to -1 and 1 for species 2 and 3\n",
    "\n",
    "# Standardize features\n",
    "scaler = StandardScaler()\n",
    "x_scaled = scaler.fit_transform(x)\n",
    "\n",
    "# Plot features\n",
    "plt.figure(figsize=(8, 6))\n",
    "plt.scatter(x_scaled[:, 0], x_scaled[:, 1], c=np.where(y == 1, 'blue', 'red'), cmap=plt.cm.RdBu, alpha=0.8)\n",
    "plt.xlabel(iris.feature_names[2])\n",
    "plt.ylabel(iris.feature_names[3])\n",
    "plt.title('Iris Versicolor vs Virginica')\n",
    "plt.xlim(-2, 2)\n",
    "plt.ylim(-2, 2)\n",
    "# plt.colorbar(label='Species')\n",
    "plt.grid(True)\n",
    "plt.show()"
   ]
  },
  {
   "cell_type": "markdown",
   "id": "2978087b",
   "metadata": {},
   "source": [
    "As you can see, mixed species are on both sides of the line."
   ]
  },
  {
   "cell_type": "code",
   "execution_count": 54,
   "id": "2a39b26f",
   "metadata": {
    "Rmd_chunk_options": "echo=FALSE,fig.width=12,fig.height=6,out.width=\"80%\",eval=TRUE",
    "jupyter": {
     "output_hidden": false,
     "source_hidden": true
    },
    "kernel": "Python3",
    "tags": [
     "report_output"
    ]
   },
   "outputs": [],
   "source": [
    "# par(mfrow=c(1,2))\n",
    "# cvglm2<-cv.glmnet(x=x,y=y,alpha=0,family=c(\"gaussian\"),standardize=F)\n",
    "#\n",
    "# fit2<-glmnet(x=x,y=y,alpha=0,lambda=cvglm2$lambda.min,family=c(\"gaussian\"),standardize=F)\n",
    "#\n",
    "# cfr=coef(fit2)\n",
    "# plot(x[,1],x[,2],xlab=names(iris)[3],ylab=names(iris)[4],\n",
    "#      col=rgb(1*(y==1),0,abs(1-1*(y==1)),alpha=1),\n",
    "#      main= \"iris versicolor vs virginica\")\n",
    "# abline(0,cfr[3]/cfr[2])\n",
    "# abline(-cfr[1]/cfr[3],-cfr[2]/cfr[3])\n",
    "#\n",
    "# x1 <- seq(-1.5,1.5,by=0.05)\n",
    "# x2 <- seq(-1.5,1.5,by=0.05)\n",
    "# ccc<-(predict(fit2,as.matrix(xgrid),s=50)>0)\n",
    "# xgrid <- expand.grid(Petal.Length =x1, Petal.Width=x2)\n",
    "# plot(xgrid[,1],xgrid[,2],col=rgb(ccc,0,abs(1-ccc),alpha=0.1),pch=20,\n",
    "#      xlab=\"Petal.Length\", ylab=\"Petal.Width\", main= \"iris versicolor vs virginica\")\n",
    "# points(x[,1],x[,2],col=rgb(1*(y==1),0,abs(1-1*(y==1)),alpha=1))\n",
    "\n",
    "# Assuming x and y are numpy arrays containing the predictor variables and response variable, respectively\n",
    "\n",
    "x1 = np.arange(-2.5, 2.55, 0.05)\n",
    "x2 = np.arange(-2.5, 2.55, 0.05)\n",
    "x1_grid, x2_grid = np.meshgrid(x1, x2)\n",
    "xgrid = np.c_[x1_grid.ravel(), x2_grid.ravel()]\n",
    "from sklearn.linear_model import Ridge\n",
    "from sklearn.linear_model import RidgeCV\n",
    "ridgereg =RidgeCV(alphas=[1e-3, 1e-2, 1e-1, 1],fit_intercept=True,cv=5).fit(x_scaled, y)\n",
    "cfr=ridgereg.coef_\n",
    "cfr0=ridgereg.intercept_\n",
    "ccr=ridgereg.predict(xgrid)\n",
    "\n",
    "# Plot 1: Scatter plot with regression lines\n",
    "#plt.subplot(1, 2, 1)\n",
    "fig, ax = plt.subplots()\n",
    "ax.scatter(x_scaled[:, 0], x_scaled[:, 1], c=y, cmap=plt.cm.RdBu, alpha=0.8)\n",
    "ax.set_xlabel('Petal Length')\n",
    "ax.set_ylabel('Petal Width')\n",
    "ax.set_title('iris versicolor vs virginica')\n",
    "\n",
    "abline(ax,-cfr0 / cfr[1],\n",
    "  -cfr[0]/cfr[1],\n",
    "       'g--',\n",
    "       linewidth=1)\n",
    "ax.scatter(xgrid[:, 0], xgrid[:, 1], c=np.where(ccr >0, 'blue', 'red'), cmap=plt.cm.RdBu, alpha=0.1)\n",
    "ax.scatter(x_scaled[:, 0], x_scaled[:, 1], c=np.where(y == 1, 'blue', 'red'), cmap=plt.cm.RdBu, alpha=1)\n",
    "ax.set_xlabel('Petal Length')\n",
    "ax.set_ylabel('Petal Width')\n",
    "ax.set_title('iris versicolor vs virginica')\n",
    "ax.set_xlim(-2.5, 2.5)\n",
    "ax.set_ylim(-2.5, 2.5)\n",
    "\n",
    "plt.show()"
   ]
  },
  {
   "cell_type": "markdown",
   "id": "70f6ab64",
   "metadata": {},
   "source": [
    "Since no line will separate the two groups, what should we do?"
   ]
  },
  {
   "cell_type": "markdown",
   "id": "e482dd51",
   "metadata": {},
   "source": [
    "#### Kernels\n",
    "\n",
    "We can use kernels.  Kernels measure similarity in some ways.\n",
    "\n",
    "- Kernels are symmetric:\n",
    "$$\\kappa(\\mathbf{x},\\mathbf{x}')=\\kappa(\\mathbf{x}',\\mathbf{x})$$\n",
    "- $\\mathbf{x}=argmax_{\\mathbf{x}'} \\kappa(\\mathbf{x},\\mathbf{x}')$ under $||\\boldsymbol{\\phi}(x)||=||\\boldsymbol{\\phi}(x)||$\n",
    "\n",
    "- Popular kernels:\n",
    "  - Linear $k_{1}=\\mathbf{x}^T\\mathbf{x}'$\n",
    "  - Polynomial $k_{d}=\\left(1+\\sum_{j=1}^p x_{ij}x_{i'j}\\right)^d$\n",
    "  - Normalized $k_{2}=\\frac{\\mathbf{x}^T\\mathbf{x}'}{||\\mathbf{x}||\\cdot ||\\mathbf{x}'||}$\n",
    "  - RBF $k_{rbf}=\\exp\\left(\\frac{-||\\mathbf{x}-\\mathbf{x}'||^2}{2}\\right)$\n",
    "  - Mahalonobis $k_{m}=\\mathbf{x}^T\\mathbf{A}\\mathbf{x}'$\n",
    "  - Sigmoid $k_{s}=\\tanh (\\mathbf{x}^T\\mathbf{A}\\mathbf{x}'+c)$"
   ]
  },
  {
   "cell_type": "markdown",
   "id": "ba2c1cef",
   "metadata": {},
   "source": [
    "#### Kernel ridge regression\n",
    "\n",
    "Let's define $p+1$ functions $\\phi_0,\\dots,\\phi_j$ that would transform $\\mathbf{x}$ such that\n",
    "$z_j = \\phi_j(\\mathbf{x})$ for $j = 0,\\dots, p$. For convenience, we define $z_0 =\\phi_0(\\mathbf{x})=1$.  We will define a matrix of transformed $\\mathbf{x}$ as\n",
    "$$\\mathbf{z}=\\boldsymbol{\\phi}(\\mathbf{x})=(\\phi_0(\\mathbf{x}),\\dots, \\phi_p(\\mathbf{x}))^T$$\n",
    "Rather than working on the original feature space $\\mathbf{x}$ we think of linear discrimination on space of $\\mathbf{z}$.\n",
    "$$g(\\mathbf{z})=\\mathbf{w}^T\\mathbf{z}$$\n",
    "When we want to see $g(\\mathbf{z})$ as function of $x$ we will write\n",
    "$$g_{\\phi}(\\mathbf{x})=g(\\mathbf{z})=g(\\boldsymbol{\\phi}(\\mathbf{x}))$$\n",
    "- If we solve the ridge regression for the set of n observations $(\\mathbf{z}_1,y_1),\\dots, (\\mathbf{z}_n,y_n)$ that is if we try to minimize\n",
    "$$J_{\\lambda}=\\frac{1}{2}||\\mathbf{Z}\\mathbf{w}-\\mathbf{y}||^2+\\frac{\\lambda}{2}||\\mathbf{w}||^2$$ wrt $\\mathbf{w}$ we get\n",
    "$$\\hat{\\mathbf{w}}_{\\lambda}=(\\mathbf{Z}^T\\mathbf{Z}+\\lambda\\mathbf{I})^{-1}\\mathbf{Z}^T \\mathbf{y}$$\n",
    "Which is the ridge regression estimate with $\\mathbf{Z}$.\n",
    "\n",
    "Take the derivative of $J_{\\lambda}$ wrt $\\mathbf{w}$ and set it equal to 0.\n",
    "$$\\frac{\\partial J_{\\lambda}}{\\partial\\mathbf{w} } =\\mathbf{Z}^T(\\mathbf{Z}\\hat{\\mathbf{w}}_{\\lambda}-\\mathbf{y})+\\lambda\\hat{\\mathbf{w}}_{\\lambda}=0$$\n",
    "Solving for $\\hat{\\mathbf{w}}_{\\lambda}$ we get\n",
    "$$\\hat{\\mathbf{w}}_{\\lambda} =-\\frac{1}{\\lambda}\\mathbf{Z}^T(\\mathbf{Z}-\\mathbf{y})$$\n",
    "If we let $\\mathbf{a}_{\\lambda}=-\\frac{1}{\\lambda}(\\mathbf{Z}-\\mathbf{y})$ then\n",
    "$$\\hat{\\mathbf{w}}_{\\lambda} =\\mathbf{Z}^T\\mathbf{a}_{\\lambda}=\\sum^n_{i=1} a_{\\lambda,i}\\boldsymbol{\\phi}(x_i)$$\n",
    "Therefore we can rewrite $g_{\\phi}(\\mathbf{x})$ as\n",
    "$$g_{\\phi}(\\mathbf{x})=g(\\boldsymbol{\\phi}(\\mathbf{x}))=\\mathbf{w}_{\\lambda}\\mathbf{z}=\\mathbf{a}_{\\lambda}^T\\mathbf{Z}\\mathbf{z}=\\sum^n_{i=1} a_{\\lambda,i}\\boldsymbol{\\phi}(x_i)\\boldsymbol{\\phi}(x)$$\n",
    "We define kernel function $\\kappa(\\mathbf{x},\\mathbf{x}')=\\boldsymbol{\\phi}(\\mathbf{x})^T\\boldsymbol{\\phi}(\\mathbf{x}')$\n",
    "then we can rewrite\n",
    "$$g_{\\phi}(\\mathbf{x})=\\sum^n_{i=1} a_{\\lambda,i}\\kappa(\\mathbf{x}_i,\\mathbf{x})$$\n",
    "If we plug $\\mathbf{w}=\\mathbf{Z}^T\\mathbf{a}_{\\lambda}$\n",
    "$$J_{\\lambda}=\\frac{1}{2}||\\mathbf{Z}\\mathbf{Z}^T\\mathbf{a}_{\\lambda}-\\mathbf{y}||^2+\\frac{\\lambda}{2}||\\mathbf{Z}^T\\mathbf{a}_{\\lambda}||^2$$\n",
    "Take derivative wrt $\\mathbf{a}$ and setting it to 0 we get\n",
    "$$\\frac{\\partial J_{\\lambda}}{\\partial\\mathbf{a} } =\\mathbf{Z}\\mathbf{Z}^T(\\mathbf{Z}\\mathbf{Z}^T\\mathbf{a}-\\mathbf{y})+\\lambda\\mathbf{Z}\\mathbf{Z}^T\\mathbf{a}=0$$\n",
    "Solving for $\\hat{\\mathbf{a}}_{\\lambda}$ yields\n",
    "$$\\hat{\\mathbf{a}}_{\\lambda}=(\\mathbf{Z}\\mathbf{Z}^T+\\lambda\\mathbf{I})^{-1} \\mathbf{y}$$\n",
    "\n",
    "If we define a kernel as\n",
    "$$\\mathbf{k}(\\mathbf{x}) = \\left(\\kappa(\\mathbf{x}_1,\\mathbf{x}),\\kappa(\\mathbf{x}_2,\\mathbf{x}),\\dots , \\kappa(\\mathbf{x}_n,\\mathbf{x})\\right)^T$$ Kernel ridge regression prediction can be expressed as\n",
    "$$g_{\\phi}(\\mathbf{x})=\\mathbf{a}_{\\lambda}^T\\mathbf{k}(\\mathbf{x})=\n",
    "\\mathbf{y}^T(\\mathbf{G}+\\lambda \\mathbf{I})^{-1}\\mathbf{k}(\\mathbf{x})$$ where $\\mathbf{G}=\\mathbf{Z}\\mathbf{Z}^T$ is called the Gram matrix.\n",
    "\n",
    "Using RBF kernel\n",
    "$$k_{rbf}=\\exp\\left(\\frac{-||\\mathbf{x}-\\mathbf{x}'||^2}{2}\\right)$$\n",
    "The resulting decision boundary looks like"
   ]
  },
  {
   "cell_type": "code",
   "execution_count": 55,
   "id": "f41420a4",
   "metadata": {
    "Rmd_chunk_options": "echo=FALSE,out.width=\"60%\",fig.height=5, fig.width=5,eval=TRUE",
    "jupyter": {
     "output_hidden": false,
     "source_hidden": true
    },
    "kernel": "Python3",
    "tags": [
     "report_output"
    ]
   },
   "outputs": [],
   "source": [
    "def rbfdot(x, y, sigma=1):\n",
    "    \"\"\"\n",
    "    Computes the radial basis function (RBF) kernel between two vectors x and y.\n",
    "\n",
    "    Parameters:\n",
    "    - x, y: Input vectors.\n",
    "    - sigma: Parameter for the RBF kernel.\n",
    "\n",
    "    Returns:\n",
    "    - RBF kernel value between x and y.\n",
    "    \"\"\"\n",
    "    return np.exp(-np.linalg.norm(x - y) ** 2 / (2 * sigma ** 2))\n",
    "\n",
    "def kernelMatrix(kernel_func, X, Y):\n",
    "    \"\"\"\n",
    "    Computes the kernel matrix given a kernel function and sets of data points X and Y.\n",
    "\n",
    "    Parameters:\n",
    "    - kernel_func: The kernel function.\n",
    "    - X, Y: Numpy arrays of shape (n_samples_X, n_features) and (n_samples_Y, n_features) respectively.\n",
    "\n",
    "    Returns:\n",
    "    - K: The kernel matrix of shape (n_samples_X, n_samples_Y).\n",
    "    \"\"\"\n",
    "    n_samples_X = X.shape[0]\n",
    "    n_samples_Y = Y.shape[0]\n",
    "    K = np.zeros((n_samples_X, n_samples_Y))\n",
    "    for i in range(n_samples_X):\n",
    "        for j in range(n_samples_Y):\n",
    "            K[i, j] = kernel_func(X[i], Y[j])\n",
    "    return K\n",
    "\n",
    "from numpy.linalg import inv\n",
    "grma = kernelMatrix(rbfdot, x_scaled, x_scaled)\n",
    "lambda_val=0.1\n",
    "aa=np.dot(np.dot(y.T, inv(grma + lambda_val * np.eye(100))),kernelMatrix(rbfdot, x_scaled, xgrid))\n",
    "\n",
    "ccc = np.where(aa>0 , 1, -1)\n",
    "\n",
    "def rbf_kernel_custom(X, Y, gamma=1.0):\n",
    "    \"\"\"\n",
    "    Custom implementation of the RBF kernel\n",
    "    \"\"\"\n",
    "    pairwise_sq_dists = -2 * np.dot(X, Y.T) + np.sum(X ** 2, axis=1)[:, np.newaxis] + np.sum(Y ** 2, axis=1)\n",
    "    K = np.exp(-gamma * pairwise_sq_dists)\n",
    "    return K\n",
    "\n",
    "# Plotting\n",
    "plt.figure(figsize=(8, 6))\n",
    "plt.scatter(xgrid[:, 0], xgrid[:, 1], c=np.where(ccc == 1, 'blue', 'red'), cmap=plt.cm.RdBu, alpha=0.1)\n",
    "plt.scatter(x_scaled[:, 0], x_scaled[:, 1], c=np.where(y == 1, 'blue', 'red'), cmap=plt.cm.RdBu, alpha=1)\n",
    "plt.xlabel('Petal Length')\n",
    "plt.ylabel('Petal Width')\n",
    "plt.title('Iris Versicolor vs Virginica')\n",
    "plt.xlim(-2.5, 2.5)\n",
    "plt.ylim(-2.5, 2.5)\n",
    "#plt.colorbar(label='Species')\n",
    "plt.show()"
   ]
  },
  {
   "cell_type": "markdown",
   "id": "c07b08b3",
   "metadata": {},
   "source": [
    "What have we gained?\n",
    "\n",
    "\\begin{eqnarray*}\n",
    "\\mathbf{Z}\\mathbf{Z}^T &=&\n",
    "\\left[\n",
    "\\begin{array}{llll}\n",
    "\\boldsymbol{\\phi}(x_1)\\boldsymbol{\\phi}(x_1) &\\dots&\\boldsymbol{\\phi}(x_1)\\boldsymbol{\\phi}(x_n)\\\\\n",
    "&\\ddots&\\\\\n",
    "\\boldsymbol{\\phi}(x_n)\\boldsymbol{\\phi}(x_1) &\\dots&\\boldsymbol{\\phi}(x_n)\\boldsymbol{\\phi}(x_n)\n",
    "\\end{array}\n",
    "\\right]\\\\\n",
    "&=&\n",
    "\\left[\n",
    "\\begin{array}{llll}\n",
    "\\kappa(\\mathbf{x}_1,\\mathbf{x}_1) &\\dots&\\kappa(\\mathbf{x}_1,\\mathbf{x}_n)\\\\\n",
    "&\\ddots&\\\\\n",
    "\\kappa(\\mathbf{x}_n,\\mathbf{x}_1) &\\dots&\\kappa(\\mathbf{x}_n,\\mathbf{x}_n)\n",
    "\\end{array}\n",
    "\\right]\n",
    "\\end{eqnarray*}\n",
    "\n",
    "The matrix $\\mathbf{G}=\\mathbf{Z}\\mathbf{Z}^T$ is called the Gram matrix.\n",
    "\n",
    "Instead of $\\mathbf{X}^T\\mathbf{X}$ now we have $\\mathbf{Z}\\mathbf{Z}^T$\n",
    "\n",
    "1. computational efficiency when $p>>n$\n",
    "2. generalization: kernel function does not need explicit $\\boldsymbol{\\phi}(x)$"
   ]
  },
  {
   "cell_type": "markdown",
   "id": "f0d2e16b",
   "metadata": {},
   "source": [
    "#### Kernel SVM\n",
    "\n",
    "If we let $z_i= \\boldsymbol{\\Phi}(x_i)$\n",
    "\n",
    "\\begin{eqnarray}\n",
    "L_{dual}(\\mathbf{a})&=& \\sum^n_{i=1} a_i- \\frac{1}{2} \\sum^n_{i=1} \\sum^n_{j=1} a_i a_j y_i y_j \\mathbf{z}_i^T\\mathbf{z}_j\\\\\n",
    "&=&\\sum^n_{i=1} a_i- \\frac{1}{2} \\sum^n_{i=1} \\sum^n_{j=1} a_i a_j y_i y_j \\kappa(\\mathbf{x}_i,\\mathbf{x}_j)\n",
    "\\end{eqnarray}\n",
    "\n",
    "$$\\mathbf{w}=\\sum^n_{i=1} a_iy_i \\mathbf{z}_i$$\n",
    "\n",
    "----\n",
    "\n",
    "Therefore we have the optimization problem using the kernel function.\n",
    "\n",
    "$$\\mathbf{a}_{SVM}=\\arg_{\\mathbf{a}} \\max\\left\\{ \\sum^n_{i=1} a_i- \\frac{1}{2} \\sum^n_{i=1} \\sum^n_{j=1} a_i a_j y_i y_j\\kappa(\\mathbf{x}_i,\\mathbf{x}_j)\\right\\}$$\n",
    "\n",
    "\n",
    "s.t,. $\\sum^n_{j=1}a_iy_i$ and $a_i\\geq0,\\forall i=1,\\dots, n$\n",
    "$$\\mathbf{w}=\\sum^n_{i=1} a_iy_i \\mathbf{x}_i$$\n",
    "\n",
    "Prediction of new observations can be made as\n",
    "$$g(\\mathbf{z})=w_0+\\mathbf{w}^T\\mathbf{z}=w_0+\\sum^n_{i=1} a_iy_i \\mathbf{z}_i\\mathbf{z}\n",
    "=w_0+\\sum^n_{i\\in S} a_iy_i\\kappa(\\mathbf{x}_i,\\mathbf{x})$$\n",
    "\n",
    "Which shows you only need the support vectors for prediction."
   ]
  },
  {
   "cell_type": "code",
   "execution_count": 56,
   "id": "75495952",
   "metadata": {
    "Rmd_chunk_options": "echo=FALSE,out.width=\"60%\",fig.height=5, fig.width=5",
    "jupyter": {
     "output_hidden": false,
     "source_hidden": true
    },
    "kernel": "Python3",
    "tags": [
     "report_output"
    ]
   },
   "outputs": [],
   "source": [
    "x = iris.data[50:150, 2:4]  # Consider samples 51 to 150 and features 3 and 4\n",
    "y = 2 * iris.target[50:150] - 3  # Convert labels to -1 and 1 for species 2 and 3\n",
    "\n",
    "# Scale features\n",
    "scaler = StandardScaler()\n",
    "x_scaled = scaler.fit_transform(x)\n",
    "\n",
    "# Fit SVM model\n",
    "svmfit = SVC(kernel='rbf', C=1, gamma=5)\n",
    "svmfit.fit(x_scaled, y)\n",
    "\n",
    "fig, ax = plt.subplots()\n",
    "plot_svm(x_scaled,\n",
    "    y,\n",
    "    svmfit ,\n",
    "    ax=ax)\n",
    "plt.show()"
   ]
  },
  {
   "cell_type": "markdown",
   "id": "304b48e7",
   "metadata": {},
   "source": [
    "### Multiclass SVM\n",
    "\n",
    "You can classify multi-class using binary algorithms like SVM or logistic regression.  SVM in R uses OVO.  We will not go into detail here."
   ]
  },
  {
   "cell_type": "code",
   "execution_count": 57,
   "id": "a1444237",
   "metadata": {
    "Rmd_chunk_options": "echo=FALSE,out.width=\"60%\",fig.height=5, fig.width=5",
    "jupyter": {
     "output_hidden": false,
     "source_hidden": true
    },
    "kernel": "Python3",
    "tags": [
     "report_output"
    ]
   },
   "outputs": [],
   "source": [
    "from sklearn.svm import SVC\n",
    "from sklearn.model_selection import GridSearchCV\n",
    "from sklearn.preprocessing import StandardScaler\n",
    "iris = datasets.load_iris()\n",
    "x = iris.data[:, 2:]  # Petal length and width\n",
    "y = iris.target\n",
    "\n",
    "# Fit SVM model\n",
    "model = SVC(kernel='rbf', C=1, gamma=1)\n",
    "model.fit(x, y)\n",
    "\n",
    "# Create a grid of points for visualization\n",
    "x0_min, x0_max = x[:, 0].min() - 1, x[:, 0].max() + 1\n",
    "x1_min, x1_max = x[:, 1].min() - 1, x[:, 1].max() + 1\n",
    "xx0, xx1 = np.meshgrid(np.arange(x0_min, x0_max, 0.02),\n",
    "                        np.arange(x1_min, x1_max, 0.02))\n",
    "xgrid = np.c_[xx0.ravel(), xx1.ravel()]\n",
    "\n",
    "# Predict the class labels for the grid points\n",
    "ccc = model.predict(xgrid)\n",
    "\n",
    "# Plot the decision boundaries and data points\n",
    "#plt.figure()\n",
    "plt.scatter(xgrid[:, 0], xgrid[:, 1], c=ccc, cmap=plt.cm.Paired, alpha=0.1)\n",
    "plt.scatter(x[:, 0], x[:, 1], c=y, cmap=plt.cm.Paired, edgecolors='k')\n",
    "\n",
    "plt.xlabel('Petal Length')\n",
    "plt.ylabel('Petal Width')\n",
    "plt.title('Iris Versicolor vs Virginica')\n",
    "plt.show()"
   ]
  },
  {
   "cell_type": "markdown",
   "id": "24192441",
   "metadata": {},
   "source": [
    "### SVR (support vector regression)\n",
    "\n",
    "SVM is not just for classification.  We can also make use of SVM for a regression problem.\n",
    "The idea is like the kernel ridge regression.  In ridge regression, we minimize the penalized likelihood objective function.   This implies every data point has a say in the fit of the model.\n",
    "\n",
    "To obtain a sparse solution SVM regression uses $\\epsilon$ insensitive error function"
   ]
  },
  {
   "cell_type": "code",
   "execution_count": 58,
   "id": "4ff559f9",
   "metadata": {
    "kernel": "Python3",
    "tags": [
     "report_cell"
    ]
   },
   "outputs": [],
   "source": [
    "# Generate data\n",
    "x = np.arange(-20, 20, 0.1)\n",
    "y = np.sin(x) / (0.3 * x + 0.001) + np.random.normal(scale=0.05, size=len(x))\n",
    "\n",
    "# Create a DataFrame\n",
    "data_sim = pd.DataFrame({'x': x, 'y': y})"
   ]
  },
  {
   "cell_type": "code",
   "execution_count": 59,
   "id": "22f70d91",
   "metadata": {
    "Rmd_chunk_options": "warning=FALSE",
    "kernel": "Python3",
    "tags": [
     "report_cell"
    ]
   },
   "outputs": [],
   "source": [
    "fit1 = LinearRegression().fit(x[:,None], y)\n",
    "intercept = fit1.intercept_\n",
    "slope = fit1.coef_\n",
    "# Plot the best-fit line\n",
    "fig, ax = plt.subplots()\n",
    "ax.scatter(x, y, label='Data')\n",
    "abline(ax,\n",
    "       intercept,\n",
    "       slope,\n",
    "       'r--',\n",
    "       linewidth=3)\n",
    "\n",
    "plt.title('Scatter Plot with Best-fit Line')\n",
    "plt.xlabel('x')\n",
    "plt.ylabel('y')\n",
    "plt.legend()\n",
    "plt.grid(True)\n",
    "plt.show()\n",
    "#Load Library\n",
    "#library(e1071)\n",
    "from sklearn.svm import SVR\n",
    "from sklearn.model_selection import GridSearchCV\n",
    "modelsvm = SVR()\n",
    "modelsvm.fit(x[:,None], y)\n",
    "\n",
    "\n",
    "# Predict using SVM regression\n",
    "predYsvm = modelsvm.predict(x[:,None])\n",
    "\n",
    "# Plot original data and SVM predictions\n",
    "plt.scatter(x, y, label='Original Data', color='black')\n",
    "plt.scatter(x, predYsvm, label='SVM Predictions', color='red', marker='o')\n",
    "\n",
    "# Tune the SVM model\n",
    "from sklearn.metrics import make_scorer\n",
    "from sklearn.metrics import mean_squared_error\n",
    "scorer = make_scorer(mean_squared_error, greater_is_better=False)\n",
    "param_grid = {'C': np.linspace(0.00001, 10, 11)}\n",
    "#param_grid = [{'kernel': ['rbf'], 'gamma': [1e-4, 1e-3, 0.01, 0.1, 0.2, 0.5, 0.6, 0.9],'C': [0.00001, 0.0001, 0.001, 0.01, 0.1,1,10,100]}]\n",
    "\n",
    "grid_search = GridSearchCV(SVR(epsilon = 0.01,gamma=0.1 ), param_grid, cv=5,scoring=scorer)\n",
    "grid_search.fit(x[:,None], y)\n",
    "\n",
    "# Print the best parameters\n",
    "print(\"Best Parameters:\", grid_search.best_params_)\n",
    "\n",
    "# Predict using the best model\n",
    "PredYBst = grid_search.predict(x[:,None])\n",
    "\n",
    "# Plot the performance of SVM Regression model\n",
    "plt.figure()\n",
    "plt.plot(param_grid['C'], grid_search.cv_results_['mean_test_score'], marker='o')\n",
    "plt.title('Performance of SVM Regression Model')\n",
    "plt.xlabel('C')\n",
    "plt.ylabel('Mean Test Score')\n",
    "\n",
    "# Plotting original data, SVM predictions, and tuned model predictions\n",
    "plt.figure()\n",
    "plt.scatter(x, y, label='Original Data', color='black')\n",
    "plt.plot(x, predYsvm, label='SVM Predictions', color='blue')\n",
    "plt.plot(x, PredYBst, label='Tuned Model Predictions', color='red')\n",
    "plt.title('SVR Model and Tuned Model')\n",
    "plt.legend()\n",
    "plt.show()"
   ]
  },
  {
   "cell_type": "markdown",
   "id": "97202831",
   "metadata": {},
   "source": [
    "### RVM (relevance vector machine) [Tipping, 2001]\n",
    "\n",
    "RVM is a Bayesian kernel regression similar to kernel ridge regression.\n",
    "The likelihood is defined as\n",
    "$$p(\\mathbf{y}|\\mathbf{x},\\mathbf{w},\\beta,\\sigma^2 )=\\prod_{i=1}^n N(y_i|f(x_i ),\\sigma^2 )$$\n",
    "where $$f(\\mathbf{x})=\\sum_{i=1}^n w_i \\kappa(x,x_i)+\\beta_0$$\n",
    "The prior is defined as\n",
    "$$p(\\mathbf{w}|\\alpha)=\\prod_{i=1}^M N(w_i|0,\\alpha_i^{-1})$$\n",
    "$$p(\\mathbf{w}|y,X,\\alpha,\\sigma)=N(\\mathbf{w}|m,\\Sigma)$$\n",
    "\n",
    "- $m=1/\\sigma^2 \\Sigma \\boldsymbol{\\phi}^T y$\n",
    "- $\\Sigma =(A+1/\\sigma^2  \\boldsymbol{\\phi}^T\\boldsymbol{\\phi})^{-1}$\n",
    "- $\\mathbf{A}=diag(\\alpha_i)$\n",
    "\n",
    "RVM is similar to kernel SVM regression, but its solution is usually more sparse and requires less tuning.\n",
    "However, the downside is that they require more computation.  For both SVMR and RVM determining the right sigma for the RBF kernel may be challenging."
   ]
  },
  {
   "cell_type": "code",
   "execution_count": 60,
   "id": "f5a77ccf",
   "metadata": {
    "kernel": "Python3",
    "tags": [
     "report_cell"
    ]
   },
   "outputs": [],
   "source": [
    "from sklearn_rvm import EMRVR\n",
    "\n",
    "model = EMRVR(kernel=\"rbf\")\n",
    "model.fit(x[:, None], y)\n",
    "y, y_std = model.predict(x[:, None], return_std=True)\n",
    "\n",
    "plt.scatter(x, y, facecolor=\"none\", edgecolor=\"g\", label=\"training\")\n",
    "plt.scatter(x[model.relevance_], y[model.relevance_], s=100, facecolor=\"none\", edgecolor=\"b\", label=\"relevance vector\")\n",
    "plt.plot(x[:, None], y, color=\"r\", label=\"predict mean\")\n",
    "plt.fill_between(x, y - y_std, y + y_std, color=\"pink\", alpha=0.2, label=\"predict std.\")\n",
    "plt.legend(loc=\"best\")\n",
    "plt.show()"
   ]
  },
  {
   "cell_type": "markdown",
   "id": "10265f62",
   "metadata": {},
   "source": [
    "### Kernel smoothing\n",
    "\n",
    "Kernels help define neighborhoods.  They are useful in finding smoothing lines.\n",
    "\n",
    "Popular kernels are Epanechnikov"
   ]
  },
  {
   "cell_type": "code",
   "execution_count": 61,
   "id": "9a72d0a7",
   "metadata": {
    "Rmd_chunk_options": "eval=TRUE",
    "kernel": "Python3",
    "tags": [
     "report_cell"
    ]
   },
   "outputs": [],
   "source": [
    "def epanechnikov(x):\n",
    "    return 0.75 * (1 - x ** 2) * (np.abs(x) <= 1)\n",
    "\n",
    "x = np.linspace(-3, 3, 1000)\n",
    "y = epanechnikov(x)\n",
    "\n",
    "plt.plot(x, y)\n",
    "plt.title('Epanechnikov Kernel Function')\n",
    "plt.xlabel('x')\n",
    "plt.ylabel('Kernel Value')\n",
    "plt.grid(True)\n",
    "plt.show()"
   ]
  },
  {
   "cell_type": "markdown",
   "id": "b9bab853",
   "metadata": {},
   "source": [
    "Tri Cubic"
   ]
  },
  {
   "cell_type": "code",
   "execution_count": 62,
   "id": "544b6eed",
   "metadata": {
    "Rmd_chunk_options": "eval=TRUE",
    "kernel": "Python3",
    "tags": [
     "report_cell"
    ]
   },
   "outputs": [],
   "source": [
    "def tri_cubic(x):\n",
    "    ax = np.abs(x)\n",
    "    return 70. / 81 * (1 - ax ** 3) ** 3 * (ax <= 1)\n",
    "\n",
    "x = np.linspace(-3, 3, 1000)\n",
    "y = tri_cubic(x)\n",
    "\n",
    "plt.plot(x, y)\n",
    "plt.title('Tri-Cubic Kernel Function')\n",
    "plt.xlabel('x')\n",
    "plt.ylabel('Kernel Value')\n",
    "plt.grid(True)\n",
    "plt.show()"
   ]
  },
  {
   "cell_type": "markdown",
   "id": "d91f579c",
   "metadata": {},
   "source": [
    "You can do locally weighted regression to fit a smooth line."
   ]
  },
  {
   "cell_type": "code",
   "execution_count": 63,
   "id": "1bba2247",
   "metadata": {
    "Rmd_chunk_options": "eval=TRUE",
    "kernel": "Python3",
    "tags": [
     "report_cell"
    ]
   },
   "outputs": [],
   "source": [
    "from scipy.stats import norm\n",
    "from statsmodels.api import GLM, families\n",
    "import statsmodels.formula.api as smf\n",
    "\n",
    "def K(xi, xp, D=norm.pdf, lambda_val=1):\n",
    "  return D( np.abs(xi - xp) / lambda_val)\n",
    "\n",
    "def ks(x, y, b, lambda_val, D=norm.pdf, family=families.Gaussian()):\n",
    "    def inner_function(xp):\n",
    "        w = K(x,xp,D,lambda_val) # np.apply_along_axis(K, axis=0, arr=x)\n",
    "        B = b(x).T #np.apply_along_axis(b, axis=1, arr=x).T\n",
    "        km = sm.GLM(y, B, family=family,var_weights=w).fit()\n",
    "        return np.sum(b(xp).T * km.params)\n",
    "    return inner_function"
   ]
  },
  {
   "cell_type": "markdown",
   "id": "aa31c981",
   "metadata": {},
   "source": [
    "Here is an example from the Elements of Statistical Learning comparing the loess and kernel smoothing method."
   ]
  },
  {
   "cell_type": "code",
   "execution_count": 64,
   "id": "4d6b10ca",
   "metadata": {
    "kernel": "Python3",
    "tags": [
     "report_cell"
    ]
   },
   "outputs": [],
   "source": [
    "def b(x):\n",
    "    return np.array([np.ones_like(x), x, x**2])\n",
    "\n",
    "bone=pd.read_csv(\"bone.tab\", sep='\\t')\n",
    "y = bone.loc[bone['gender'] == \"female\", 'spnbmd']\n",
    "x = bone.loc[bone['gender'] == \"female\", 'age']\n",
    "\n",
    "# Define bandwidth parameter\n",
    "lambda_val = 5\n",
    "\n",
    "# Compute estimated values\n",
    "xp = np.linspace(min(x), max(x), num=200)\n",
    "fp = np.array([ks(x, y, b, lambda_val, D=tri_cubic)(xp_val) for xp_val in xp])\n",
    "\n",
    "from scipy.interpolate import interp1d\n",
    "# Plot data points\n",
    "plt.scatter(x, y, marker='o', color='gray', label='Data', edgecolor='black')\n",
    "\n",
    "# Plot line with xp and fp\n",
    "plt.plot(xp, fp, color='black', linewidth=2, label='Line')\n",
    "# LOESS fitting\n",
    "lowess = sm.nonparametric.lowess\n",
    "y_fitted=lowess(y, x)\n",
    "\n",
    "plt.plot(y_fitted[:,0], y_fitted[:,1], color='blue', linewidth=2, label='LOESS')\n",
    "\n",
    "plt.xlabel('X')\n",
    "plt.ylabel('Y')\n",
    "plt.legend()\n",
    "plt.grid(True)\n",
    "plt.show()"
   ]
  }
 ],
 "metadata": {
  "Rmd_chunk_options": {
   "author": "Masanao Yajima",
   "date": "2023-01-05",
   "output": "html_document",
   "title": "Kernel and SVM"
  },
  "kernelspec": {
   "display_name": "base",
   "language": "python",
   "name": "python3"
  },
  "language_info": {
   "codemirror_mode": {
    "name": "ipython",
    "version": 3
   },
   "file_extension": ".py",
   "mimetype": "text/x-python",
   "name": "python",
   "nbconvert_exporter": "python",
   "pygments_lexer": "ipython3",
   "version": "3.11.5"
  },
  "sos": {
   "kernels": [
    [
     "SoS",
     "sos",
     "",
     ""
    ],
    [
     "R",
     "ir",
     "",
     ""
    ],
    [
     "css",
     "css",
     "",
     ""
    ],
    [
     "Python3",
     "ir",
     "",
     ""
    ]
   ]
  }
 },
 "nbformat": 4,
 "nbformat_minor": 5
}
